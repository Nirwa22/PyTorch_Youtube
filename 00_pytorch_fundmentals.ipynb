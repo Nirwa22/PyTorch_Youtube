{
  "nbformat": 4,
  "nbformat_minor": 0,
  "metadata": {
    "colab": {
      "provenance": [],
      "gpuType": "T4",
      "authorship_tag": "ABX9TyMFnzfE3lvWSTTyQqRoLDqn",
      "include_colab_link": true
    },
    "kernelspec": {
      "name": "python3",
      "display_name": "Python 3"
    },
    "language_info": {
      "name": "python"
    },
    "accelerator": "GPU"
  },
  "cells": [
    {
      "cell_type": "markdown",
      "metadata": {
        "id": "view-in-github",
        "colab_type": "text"
      },
      "source": [
        "<a href=\"https://colab.research.google.com/github/Nirwa22/PyTorch_Youtube/blob/main/00_pytorch_fundmentals.ipynb\" target=\"_parent\"><img src=\"https://colab.research.google.com/assets/colab-badge.svg\" alt=\"Open In Colab\"/></a>"
      ]
    },
    {
      "cell_type": "code",
      "execution_count": null,
      "metadata": {
        "colab": {
          "base_uri": "https://localhost:8080/"
        },
        "id": "cLvqlyyPHnx6",
        "outputId": "aae28313-1371-4f6d-f5e2-b07885af7412"
      },
      "outputs": [
        {
          "output_type": "stream",
          "name": "stdout",
          "text": [
            "Tue Feb 27 08:47:34 2024       \n",
            "+---------------------------------------------------------------------------------------+\n",
            "| NVIDIA-SMI 535.104.05             Driver Version: 535.104.05   CUDA Version: 12.2     |\n",
            "|-----------------------------------------+----------------------+----------------------+\n",
            "| GPU  Name                 Persistence-M | Bus-Id        Disp.A | Volatile Uncorr. ECC |\n",
            "| Fan  Temp   Perf          Pwr:Usage/Cap |         Memory-Usage | GPU-Util  Compute M. |\n",
            "|                                         |                      |               MIG M. |\n",
            "|=========================================+======================+======================|\n",
            "|   0  Tesla T4                       Off | 00000000:00:04.0 Off |                    0 |\n",
            "| N/A   50C    P8               9W /  70W |      0MiB / 15360MiB |      0%      Default |\n",
            "|                                         |                      |                  N/A |\n",
            "+-----------------------------------------+----------------------+----------------------+\n",
            "                                                                                         \n",
            "+---------------------------------------------------------------------------------------+\n",
            "| Processes:                                                                            |\n",
            "|  GPU   GI   CI        PID   Type   Process name                            GPU Memory |\n",
            "|        ID   ID                                                             Usage      |\n",
            "|=======================================================================================|\n",
            "|  No running processes found                                                           |\n",
            "+---------------------------------------------------------------------------------------+\n"
          ]
        }
      ],
      "source": [
        "!nvidia-smi"
      ]
    },
    {
      "cell_type": "code",
      "source": [
        "import torch\n",
        "print(torch.__version__)"
      ],
      "metadata": {
        "colab": {
          "base_uri": "https://localhost:8080/"
        },
        "id": "l38vQePuKNB3",
        "outputId": "53670c16-c492-4328-efcb-1cf71ea97f19"
      },
      "execution_count": null,
      "outputs": [
        {
          "output_type": "stream",
          "name": "stdout",
          "text": [
            "2.1.0+cu121\n"
          ]
        }
      ]
    },
    {
      "cell_type": "code",
      "source": [
        "#scalar\n",
        "x = torch.tensor(7)"
      ],
      "metadata": {
        "id": "UVIfPQuQO6uQ"
      },
      "execution_count": null,
      "outputs": []
    },
    {
      "cell_type": "code",
      "source": [
        "x.type"
      ],
      "metadata": {
        "colab": {
          "base_uri": "https://localhost:8080/"
        },
        "id": "_OK7W40qUV-z",
        "outputId": "7e16e1fb-b20b-45b3-d2bf-99e079404b69"
      },
      "execution_count": null,
      "outputs": [
        {
          "output_type": "execute_result",
          "data": {
            "text/plain": [
              "<function Tensor.type>"
            ]
          },
          "metadata": {},
          "execution_count": 4
        }
      ]
    },
    {
      "cell_type": "code",
      "source": [
        "x.ndim#A scalar has no dimension"
      ],
      "metadata": {
        "colab": {
          "base_uri": "https://localhost:8080/"
        },
        "id": "59hjQpP3UdLG",
        "outputId": "d622e6ef-5f16-4c75-d637-d54921bf95ab"
      },
      "execution_count": null,
      "outputs": [
        {
          "output_type": "execute_result",
          "data": {
            "text/plain": [
              "0"
            ]
          },
          "metadata": {},
          "execution_count": 5
        }
      ]
    },
    {
      "cell_type": "code",
      "source": [
        "x.item()"
      ],
      "metadata": {
        "colab": {
          "base_uri": "https://localhost:8080/"
        },
        "id": "BBrjqnehUvKA",
        "outputId": "ce7a4ced-8bd0-430d-ae4a-c2b4723f0673"
      },
      "execution_count": null,
      "outputs": [
        {
          "output_type": "execute_result",
          "data": {
            "text/plain": [
              "7"
            ]
          },
          "metadata": {},
          "execution_count": 6
        }
      ]
    },
    {
      "cell_type": "code",
      "source": [
        "y = torch.tensor([7,7])\n",
        "y.ndim"
      ],
      "metadata": {
        "colab": {
          "base_uri": "https://localhost:8080/"
        },
        "id": "4iuqISLWVXKT",
        "outputId": "61eec440-279e-48c0-ff32-9f4db13da76a"
      },
      "execution_count": null,
      "outputs": [
        {
          "output_type": "execute_result",
          "data": {
            "text/plain": [
              "1"
            ]
          },
          "metadata": {},
          "execution_count": 7
        }
      ]
    },
    {
      "cell_type": "code",
      "source": [
        "y.shape"
      ],
      "metadata": {
        "colab": {
          "base_uri": "https://localhost:8080/"
        },
        "id": "InL7D6j8WNnv",
        "outputId": "728e7b39-8582-423f-94a0-cf3499afaeb7"
      },
      "execution_count": null,
      "outputs": [
        {
          "output_type": "execute_result",
          "data": {
            "text/plain": [
              "torch.Size([2])"
            ]
          },
          "metadata": {},
          "execution_count": 8
        }
      ]
    },
    {
      "cell_type": "code",
      "source": [
        "matrix = torch.tensor([[1,1],\n",
        "                       [5,6]])\n",
        "matrix"
      ],
      "metadata": {
        "colab": {
          "base_uri": "https://localhost:8080/"
        },
        "id": "NNmbnxtVWPMT",
        "outputId": "05d63b55-e338-4b0b-91d0-4f4399fca672"
      },
      "execution_count": null,
      "outputs": [
        {
          "output_type": "execute_result",
          "data": {
            "text/plain": [
              "tensor([[1, 1],\n",
              "        [5, 6]])"
            ]
          },
          "metadata": {},
          "execution_count": 9
        }
      ]
    },
    {
      "cell_type": "code",
      "source": [
        "matrix.ndim"
      ],
      "metadata": {
        "colab": {
          "base_uri": "https://localhost:8080/"
        },
        "id": "xCCc6ST0WX0P",
        "outputId": "32ddfd52-8133-46a2-c874-b1ae512e034d"
      },
      "execution_count": null,
      "outputs": [
        {
          "output_type": "execute_result",
          "data": {
            "text/plain": [
              "2"
            ]
          },
          "metadata": {},
          "execution_count": 10
        }
      ]
    },
    {
      "cell_type": "code",
      "source": [
        "matrix.shape"
      ],
      "metadata": {
        "colab": {
          "base_uri": "https://localhost:8080/"
        },
        "id": "-nPo1AnnWjgr",
        "outputId": "18ed0423-7809-401b-c253-2e757f7d42ac"
      },
      "execution_count": null,
      "outputs": [
        {
          "output_type": "execute_result",
          "data": {
            "text/plain": [
              "torch.Size([2, 2])"
            ]
          },
          "metadata": {},
          "execution_count": 11
        }
      ]
    },
    {
      "cell_type": "code",
      "source": [
        "Matrix[1]"
      ],
      "metadata": {
        "colab": {
          "base_uri": "https://localhost:8080/",
          "height": 141
        },
        "id": "MyDoaJtRXbxg",
        "outputId": "101eaee2-179a-46b4-c50e-57b05afa5052"
      },
      "execution_count": null,
      "outputs": [
        {
          "output_type": "error",
          "ename": "NameError",
          "evalue": "name 'Matrix' is not defined",
          "traceback": [
            "\u001b[0;31m---------------------------------------------------------------------------\u001b[0m",
            "\u001b[0;31mNameError\u001b[0m                                 Traceback (most recent call last)",
            "\u001b[0;32m<ipython-input-12-ef90f7e47a2a>\u001b[0m in \u001b[0;36m<cell line: 1>\u001b[0;34m()\u001b[0m\n\u001b[0;32m----> 1\u001b[0;31m \u001b[0mMatrix\u001b[0m\u001b[0;34m[\u001b[0m\u001b[0;36m1\u001b[0m\u001b[0;34m]\u001b[0m\u001b[0;34m\u001b[0m\u001b[0;34m\u001b[0m\u001b[0m\n\u001b[0m",
            "\u001b[0;31mNameError\u001b[0m: name 'Matrix' is not defined"
          ]
        }
      ]
    },
    {
      "cell_type": "code",
      "source": [
        "tensor = torch.tensor([[[2,4],[5,6],[7,8],[7,4]]])\n",
        "tensor"
      ],
      "metadata": {
        "colab": {
          "base_uri": "https://localhost:8080/"
        },
        "id": "4PFE7H48Wlsp",
        "outputId": "817753a4-c3c1-4f33-b2d9-299ff6903d9a"
      },
      "execution_count": null,
      "outputs": [
        {
          "output_type": "execute_result",
          "data": {
            "text/plain": [
              "tensor([[[2, 4],\n",
              "         [5, 6],\n",
              "         [7, 8],\n",
              "         [7, 4]]])"
            ]
          },
          "metadata": {},
          "execution_count": 14
        }
      ]
    },
    {
      "cell_type": "code",
      "source": [
        "tensor.shape"
      ],
      "metadata": {
        "colab": {
          "base_uri": "https://localhost:8080/"
        },
        "id": "XAd5MwN5W7q2",
        "outputId": "30044356-313f-4364-b095-92406c6fb5c3"
      },
      "execution_count": null,
      "outputs": [
        {
          "output_type": "execute_result",
          "data": {
            "text/plain": [
              "torch.Size([1, 4, 2])"
            ]
          },
          "metadata": {},
          "execution_count": 15
        }
      ]
    },
    {
      "cell_type": "code",
      "source": [
        "tensor.ndim"
      ],
      "metadata": {
        "colab": {
          "base_uri": "https://localhost:8080/"
        },
        "id": "B0YFhLWlW-9_",
        "outputId": "4530cd90-9b22-4b56-d0cb-7d25fabcbb9c"
      },
      "execution_count": null,
      "outputs": [
        {
          "output_type": "execute_result",
          "data": {
            "text/plain": [
              "3"
            ]
          },
          "metadata": {},
          "execution_count": 16
        }
      ]
    },
    {
      "cell_type": "code",
      "source": [
        "T = torch.tensor([[[[1,2,3],[1,2,1]]]])"
      ],
      "metadata": {
        "id": "FYoqdO0oXBLr"
      },
      "execution_count": null,
      "outputs": []
    },
    {
      "cell_type": "code",
      "source": [
        "T.ndim"
      ],
      "metadata": {
        "colab": {
          "base_uri": "https://localhost:8080/"
        },
        "id": "8LtLlE-da1KW",
        "outputId": "7f3ec2b0-1461-4098-b488-5f2bcd05d5c4"
      },
      "execution_count": null,
      "outputs": [
        {
          "output_type": "execute_result",
          "data": {
            "text/plain": [
              "4"
            ]
          },
          "metadata": {},
          "execution_count": 19
        }
      ]
    },
    {
      "cell_type": "code",
      "source": [
        "#Create random tensor\n",
        "k = torch.rand(224,224,3)\n",
        "k.ndim,k.shape"
      ],
      "metadata": {
        "colab": {
          "base_uri": "https://localhost:8080/"
        },
        "id": "6FALpqwbY88N",
        "outputId": "293b18a7-c181-443b-9a34-5eafac6f4862"
      },
      "execution_count": null,
      "outputs": [
        {
          "output_type": "execute_result",
          "data": {
            "text/plain": [
              "(3, torch.Size([224, 224, 3]))"
            ]
          },
          "metadata": {},
          "execution_count": 18
        }
      ]
    },
    {
      "cell_type": "code",
      "source": [
        "ones = torch.ones(size=(3,4))\n",
        "zeros = torch.zeros(size=(3,4))\n",
        "ones*zeros"
      ],
      "metadata": {
        "colab": {
          "base_uri": "https://localhost:8080/"
        },
        "id": "E8UzcUJFr5AG",
        "outputId": "b421b100-7bbc-4b44-93cd-1f7de8801f1d"
      },
      "execution_count": null,
      "outputs": [
        {
          "output_type": "execute_result",
          "data": {
            "text/plain": [
              "tensor([[0., 0., 0., 0.],\n",
              "        [0., 0., 0., 0.],\n",
              "        [0., 0., 0., 0.]])"
            ]
          },
          "metadata": {},
          "execution_count": 19
        }
      ]
    },
    {
      "cell_type": "code",
      "source": [
        "#Creating a range of tensors\n",
        "range = torch.arange(1,11,2)#(start,end,step)\n",
        "range"
      ],
      "metadata": {
        "colab": {
          "base_uri": "https://localhost:8080/"
        },
        "id": "XW2xhU_ksWVY",
        "outputId": "d1a21e2b-787e-4382-ed52-73f9e24f344c"
      },
      "execution_count": null,
      "outputs": [
        {
          "output_type": "execute_result",
          "data": {
            "text/plain": [
              "tensor([1, 3, 5, 7, 9])"
            ]
          },
          "metadata": {},
          "execution_count": 20
        }
      ]
    },
    {
      "cell_type": "code",
      "source": [
        "#Creating tensors like\n",
        "torch.ones_like(range,dtype = torch.float32)"
      ],
      "metadata": {
        "colab": {
          "base_uri": "https://localhost:8080/"
        },
        "id": "pRLltqRCsf3k",
        "outputId": "66319e31-9295-4daa-9cf9-0a2b762ce920"
      },
      "execution_count": null,
      "outputs": [
        {
          "output_type": "execute_result",
          "data": {
            "text/plain": [
              "tensor([1., 1., 1., 1., 1.])"
            ]
          },
          "metadata": {},
          "execution_count": 28
        }
      ]
    },
    {
      "cell_type": "code",
      "source": [
        "#Datatypes\n",
        "r = torch.tensor([[3,5],[6,8]], dtype=torch.float32,device=None,requires_grad=False)\n",
        "r.dtype"
      ],
      "metadata": {
        "colab": {
          "base_uri": "https://localhost:8080/"
        },
        "id": "91tpIe-ktWKl",
        "outputId": "caeeb024-bbbf-4e10-95fd-c13ec952b854"
      },
      "execution_count": null,
      "outputs": [
        {
          "output_type": "execute_result",
          "data": {
            "text/plain": [
              "torch.float32"
            ]
          },
          "metadata": {},
          "execution_count": 24
        }
      ]
    },
    {
      "cell_type": "code",
      "source": [
        "h = r.type(torch.float16)\n",
        "h"
      ],
      "metadata": {
        "colab": {
          "base_uri": "https://localhost:8080/"
        },
        "id": "M7-yjpxIwyg3",
        "outputId": "43f71413-f7e1-47ec-d8d7-fb0532bb144a"
      },
      "execution_count": null,
      "outputs": [
        {
          "output_type": "execute_result",
          "data": {
            "text/plain": [
              "tensor([[3., 5.],\n",
              "        [6., 8.]], dtype=torch.float16)"
            ]
          },
          "metadata": {},
          "execution_count": 27
        }
      ]
    },
    {
      "cell_type": "code",
      "source": [
        "h*float32_t"
      ],
      "metadata": {
        "colab": {
          "base_uri": "https://localhost:8080/"
        },
        "id": "0QwENoF7uuXh",
        "outputId": "de2a25a6-9026-4ba4-e73f-a3c3b3530247"
      },
      "execution_count": null,
      "outputs": [
        {
          "output_type": "execute_result",
          "data": {
            "text/plain": [
              "tensor([[ 9., 25.],\n",
              "        [36., 64.]])"
            ]
          },
          "metadata": {},
          "execution_count": 32
        }
      ]
    },
    {
      "cell_type": "code",
      "source": [
        "import torch\n",
        "k = torch.rand(1,2,dtype = torch.float32)\n",
        "k"
      ],
      "metadata": {
        "colab": {
          "base_uri": "https://localhost:8080/"
        },
        "id": "q5TScTQ7ZtPC",
        "outputId": "c2a80235-4e61-4ef4-f2f2-4ec0b1c5417f"
      },
      "execution_count": null,
      "outputs": [
        {
          "output_type": "execute_result",
          "data": {
            "text/plain": [
              "tensor([[0.9847, 0.5791]])"
            ]
          },
          "metadata": {},
          "execution_count": 56
        }
      ]
    },
    {
      "cell_type": "code",
      "source": [
        "k"
      ],
      "metadata": {
        "colab": {
          "base_uri": "https://localhost:8080/"
        },
        "id": "B9-ur2p9aO3f",
        "outputId": "e1268429-937d-4a3c-be75-d3deffc8072c"
      },
      "execution_count": null,
      "outputs": [
        {
          "output_type": "execute_result",
          "data": {
            "text/plain": [
              "tensor([0.6018, 0.7081, 0.6421])"
            ]
          },
          "metadata": {},
          "execution_count": 13
        }
      ]
    },
    {
      "cell_type": "code",
      "source": [
        "k.ndim"
      ],
      "metadata": {
        "colab": {
          "base_uri": "https://localhost:8080/"
        },
        "id": "j4BYbmv3aI_k",
        "outputId": "14040195-6737-4268-9237-9986e557c9f3"
      },
      "execution_count": null,
      "outputs": [
        {
          "output_type": "execute_result",
          "data": {
            "text/plain": [
              "1"
            ]
          },
          "metadata": {},
          "execution_count": 15
        }
      ]
    },
    {
      "cell_type": "code",
      "source": [
        "x = torch.tensor(5)\n",
        "x.item()\n"
      ],
      "metadata": {
        "colab": {
          "base_uri": "https://localhost:8080/"
        },
        "id": "bTmfOCjicvkI",
        "outputId": "4fe68834-135b-49c6-a0f9-e30f7875c642"
      },
      "execution_count": null,
      "outputs": [
        {
          "output_type": "execute_result",
          "data": {
            "text/plain": [
              "5"
            ]
          },
          "metadata": {},
          "execution_count": 45
        }
      ]
    },
    {
      "cell_type": "code",
      "source": [
        "t = torch.tensor([3,4])\n",
        "t"
      ],
      "metadata": {
        "colab": {
          "base_uri": "https://localhost:8080/"
        },
        "id": "ZPQsh8kleVSV",
        "outputId": "edc4b391-6182-4cb9-e409-339752a8ffa9"
      },
      "execution_count": null,
      "outputs": [
        {
          "output_type": "execute_result",
          "data": {
            "text/plain": [
              "tensor([3, 4])"
            ]
          },
          "metadata": {},
          "execution_count": 72
        }
      ]
    },
    {
      "cell_type": "code",
      "source": [
        "t.ndim"
      ],
      "metadata": {
        "colab": {
          "base_uri": "https://localhost:8080/"
        },
        "id": "XC_SbfHxiP1j",
        "outputId": "4089e92a-9d2f-4a2d-d37a-3fa78d8614bb"
      },
      "execution_count": null,
      "outputs": [
        {
          "output_type": "execute_result",
          "data": {
            "text/plain": [
              "1"
            ]
          },
          "metadata": {},
          "execution_count": 69
        }
      ]
    },
    {
      "cell_type": "code",
      "source": [
        "t*k"
      ],
      "metadata": {
        "colab": {
          "base_uri": "https://localhost:8080/"
        },
        "id": "b-tQrzwie_9C",
        "outputId": "3ad17d99-78f2-4e2b-f3a9-73c94a82171b"
      },
      "execution_count": null,
      "outputs": [
        {
          "output_type": "execute_result",
          "data": {
            "text/plain": [
              "tensor([[3.4465, 2.6640]])"
            ]
          },
          "metadata": {},
          "execution_count": 70
        }
      ]
    },
    {
      "cell_type": "code",
      "source": [
        "t.dtype,t.shape,t.device"
      ],
      "metadata": {
        "colab": {
          "base_uri": "https://localhost:8080/"
        },
        "id": "zjsnHb9vgQnh",
        "outputId": "fb2a0d12-b346-469d-f8f3-42aaf6c49ead"
      },
      "execution_count": null,
      "outputs": [
        {
          "output_type": "execute_result",
          "data": {
            "text/plain": [
              "(torch.int64, torch.Size([2]), device(type='cpu'))"
            ]
          },
          "metadata": {},
          "execution_count": 73
        }
      ]
    },
    {
      "cell_type": "markdown",
      "source": [
        "***Tensor not in right shape,right device or right datatype**"
      ],
      "metadata": {
        "id": "HecbDmvRhh6e"
      }
    },
    {
      "cell_type": "code",
      "source": [
        "t.size() #t.size()=t.shape\n",
        "#t.shape is an attribute while t.size() is a function"
      ],
      "metadata": {
        "colab": {
          "base_uri": "https://localhost:8080/"
        },
        "id": "eUCnvtkJhKrF",
        "outputId": "bf19c622-9caa-403e-8807-23ba25405cc3"
      },
      "execution_count": null,
      "outputs": [
        {
          "output_type": "execute_result",
          "data": {
            "text/plain": [
              "torch.Size([2])"
            ]
          },
          "metadata": {},
          "execution_count": 67
        }
      ]
    },
    {
      "cell_type": "markdown",
      "source": [
        "**Manipulating tensors (tensors operations)**\n",
        "1. Addition\n",
        "2. Multiplication(elementwise)\n",
        "3. Substraction\n",
        "4. Division\n",
        "5. Matrix Multiplication"
      ],
      "metadata": {
        "id": "owXNp9loh9O5"
      }
    },
    {
      "cell_type": "code",
      "source": [
        "#Addition\n",
        "r = torch.tensor([1,4,6])\n",
        "k = torch.tensor([1,6,8])\n",
        "l = torch.add(r,k) #Pytorch builtin function\n",
        "r+k,l"
      ],
      "metadata": {
        "colab": {
          "base_uri": "https://localhost:8080/"
        },
        "id": "j0IkI39bimZD",
        "outputId": "2dcac31a-27a4-487c-fc08-544aab1775dd"
      },
      "execution_count": null,
      "outputs": [
        {
          "output_type": "execute_result",
          "data": {
            "text/plain": [
              "(tensor([ 2, 10, 14]), tensor([ 2, 10, 14]))"
            ]
          },
          "metadata": {},
          "execution_count": 91
        }
      ]
    },
    {
      "cell_type": "code",
      "source": [
        "#Substraction\n",
        "r = torch.tensor([1,4,6])\n",
        "k = torch.tensor([1,6,8])\n",
        "l = torch.sub(r,k) #Pytorch builtin function\n",
        "r-k,l"
      ],
      "metadata": {
        "colab": {
          "base_uri": "https://localhost:8080/"
        },
        "id": "QaHcGt_9k3NH",
        "outputId": "ef43f9f9-fc54-4009-eb2d-1624018a5fd3"
      },
      "execution_count": null,
      "outputs": [
        {
          "output_type": "execute_result",
          "data": {
            "text/plain": [
              "(tensor([ 0, -2, -2]), tensor([ 0, -2, -2]))"
            ]
          },
          "metadata": {},
          "execution_count": 92
        }
      ]
    },
    {
      "cell_type": "code",
      "source": [
        "#Multiplication(element-wise)\n",
        "l = torch.mul(r,k) #Pytorch builtin function\n",
        "r*k,l"
      ],
      "metadata": {
        "colab": {
          "base_uri": "https://localhost:8080/"
        },
        "id": "rpdH3RcTk_5v",
        "outputId": "8183883d-4035-4731-d390-17c2544c3310"
      },
      "execution_count": null,
      "outputs": [
        {
          "output_type": "execute_result",
          "data": {
            "text/plain": [
              "(tensor([ 1, 24, 48]), tensor([ 1, 24, 48]))"
            ]
          },
          "metadata": {},
          "execution_count": 93
        }
      ]
    },
    {
      "cell_type": "code",
      "source": [
        "#Division\n",
        "l = torch.div(r,k)\n",
        "r/k,l"
      ],
      "metadata": {
        "colab": {
          "base_uri": "https://localhost:8080/"
        },
        "id": "AW60TgFulP0B",
        "outputId": "8ee03324-07cd-41a2-ceda-b54aa5e1035e"
      },
      "execution_count": null,
      "outputs": [
        {
          "output_type": "execute_result",
          "data": {
            "text/plain": [
              "(tensor([1.0000, 0.6667, 0.7500]), tensor([1.0000, 0.6667, 0.7500]))"
            ]
          },
          "metadata": {},
          "execution_count": 94
        }
      ]
    },
    {
      "cell_type": "markdown",
      "source": [
        "**Matrix Multiplication**\n",
        "\n",
        "\n",
        "1.   Element-wise Multiplication(with scalar)\n",
        "2.   Matrix multiplication(very common in NN) or Dot product(both these are used interchangingly)\n",
        "\n"
      ],
      "metadata": {
        "id": "MKVew4OllsOn"
      }
    },
    {
      "cell_type": "code",
      "source": [
        "torch.matmul(r,k)"
      ],
      "metadata": {
        "colab": {
          "base_uri": "https://localhost:8080/"
        },
        "id": "P1ukFC0JjpTY",
        "outputId": "acaefb56-40be-4870-a1b9-0b492f3284b7"
      },
      "execution_count": null,
      "outputs": [
        {
          "output_type": "execute_result",
          "data": {
            "text/plain": [
              "tensor(73)"
            ]
          },
          "metadata": {},
          "execution_count": 95
        }
      ]
    },
    {
      "cell_type": "code",
      "source": [
        "import torch\n",
        "q = torch.tensor([[1],[1],[0]])\n",
        "t = torch.tensor([2,3,4])\n",
        "torch.mul(q,t) #q*t"
      ],
      "metadata": {
        "colab": {
          "base_uri": "https://localhost:8080/"
        },
        "id": "LEz2zJfCiA-4",
        "outputId": "e8b542bd-7b37-49a4-bd34-1abcbb313160"
      },
      "execution_count": null,
      "outputs": [
        {
          "output_type": "execute_result",
          "data": {
            "text/plain": [
              "tensor([[2, 3, 4],\n",
              "        [2, 3, 4],\n",
              "        [0, 0, 0]])"
            ]
          },
          "metadata": {},
          "execution_count": 2
        }
      ]
    },
    {
      "cell_type": "code",
      "source": [
        "q = torch.tensor([1,1,0])\n",
        "t = torch.tensor([2,3,4])"
      ],
      "metadata": {
        "id": "BYM4uT1lpRFc"
      },
      "execution_count": null,
      "outputs": []
    },
    {
      "cell_type": "code",
      "source": [
        "%%time\n",
        "torch.matmul(t,t) #Basically Dot product '@' could also be used"
      ],
      "metadata": {
        "colab": {
          "base_uri": "https://localhost:8080/"
        },
        "id": "BX_KWZuqnwhV",
        "outputId": "cde36760-0c06-4c88-9d88-cfd2c1c53d4a"
      },
      "execution_count": null,
      "outputs": [
        {
          "output_type": "stream",
          "name": "stdout",
          "text": [
            "CPU times: user 62 µs, sys: 10 µs, total: 72 µs\n",
            "Wall time: 75.3 µs\n"
          ]
        },
        {
          "output_type": "execute_result",
          "data": {
            "text/plain": [
              "tensor(29)"
            ]
          },
          "metadata": {},
          "execution_count": 11
        }
      ]
    },
    {
      "cell_type": "code",
      "source": [
        "t@t"
      ],
      "metadata": {
        "colab": {
          "base_uri": "https://localhost:8080/"
        },
        "id": "0s-JOEDY39f5",
        "outputId": "6c08d50d-c272-4e1e-82a4-18cf59dc8020"
      },
      "execution_count": null,
      "outputs": [
        {
          "output_type": "execute_result",
          "data": {
            "text/plain": [
              "tensor(29)"
            ]
          },
          "metadata": {},
          "execution_count": 12
        }
      ]
    },
    {
      "cell_type": "code",
      "source": [
        "%%time\n",
        "v = 0\n",
        "for i in range(len(t)):\n",
        "  v += t[i]*t[i]\n",
        "print(v)"
      ],
      "metadata": {
        "colab": {
          "base_uri": "https://localhost:8080/"
        },
        "id": "n_G5ZKDI01Fc",
        "outputId": "3884fdfe-27c7-4584-e124-f132ec167192"
      },
      "execution_count": null,
      "outputs": [
        {
          "output_type": "stream",
          "name": "stdout",
          "text": [
            "tensor(29)\n",
            "CPU times: user 1.43 ms, sys: 0 ns, total: 1.43 ms\n",
            "Wall time: 1.44 ms\n"
          ]
        }
      ]
    },
    {
      "cell_type": "markdown",
      "source": [
        "**One of the most common errors in deep learning is shape errors**"
      ],
      "metadata": {
        "id": "n0Yp2ud81i_M"
      }
    },
    {
      "cell_type": "markdown",
      "source": [
        "Two main rules:\n",
        "\n",
        "1.   The **inners dimension** should match\n",
        "2.   The resulting matrix has the shape of the **outer dimension**\n",
        "\n"
      ],
      "metadata": {
        "id": "1XRR9PFj3xUs"
      }
    },
    {
      "cell_type": "code",
      "source": [
        "import torch\n",
        "k = torch.matmul(torch.rand(2,3), torch.rand(3,2)) #could use torch.mm too\n",
        "#torch.matmul(torch.rand(2,3), torch.rand(2,3)) won't work because inner dimensions are not matching"
      ],
      "metadata": {
        "id": "sidb8-0K7sAz"
      },
      "execution_count": null,
      "outputs": []
    },
    {
      "cell_type": "markdown",
      "source": [
        "Lets suppose there is a shape error but u can't fix it then use **transpose**"
      ],
      "metadata": {
        "id": "07FLthAk81Ax"
      }
    },
    {
      "cell_type": "code",
      "source": [
        "tensor = torch.tensor([[2,3],[1,7],[5,6]])\n",
        "tensor.T #Transpose"
      ],
      "metadata": {
        "colab": {
          "base_uri": "https://localhost:8080/"
        },
        "id": "GWE7HU15-QlA",
        "outputId": "a962a04e-044d-4ccd-87d5-bf16b84d5db9"
      },
      "execution_count": null,
      "outputs": [
        {
          "output_type": "execute_result",
          "data": {
            "text/plain": [
              "tensor([[2, 1, 5],\n",
              "        [3, 7, 6]])"
            ]
          },
          "metadata": {},
          "execution_count": 8
        }
      ]
    },
    {
      "cell_type": "code",
      "source": [
        "tensor.T.shape , tensor.shape"
      ],
      "metadata": {
        "colab": {
          "base_uri": "https://localhost:8080/"
        },
        "id": "Y8EhlLYk-ei2",
        "outputId": "e2112bb7-1811-4af1-f06d-dceac8e5dfc2"
      },
      "execution_count": null,
      "outputs": [
        {
          "output_type": "execute_result",
          "data": {
            "text/plain": [
              "(torch.Size([2, 3]), torch.Size([3, 2]))"
            ]
          },
          "metadata": {},
          "execution_count": 13
        }
      ]
    },
    {
      "cell_type": "code",
      "source": [
        "print(f\"Shape of the tensor transpose : {tensor.T.shape}\")"
      ],
      "metadata": {
        "colab": {
          "base_uri": "https://localhost:8080/"
        },
        "id": "kQwgvxs8_c7s",
        "outputId": "30fdf9c1-2654-47e0-d10d-ae9e794130a3"
      },
      "execution_count": null,
      "outputs": [
        {
          "output_type": "stream",
          "name": "stdout",
          "text": [
            "Shape of the tensor transpose : torch.Size([2, 3])\n"
          ]
        }
      ]
    },
    {
      "cell_type": "markdown",
      "source": [
        "**Finding the min,max,mean,sum,etc(tensor aggregation)**"
      ],
      "metadata": {
        "id": "S9GwVTdIA06a"
      }
    },
    {
      "cell_type": "code",
      "source": [
        "torch.min(tensor) , torch.max(tensor)  #Max and Min"
      ],
      "metadata": {
        "colab": {
          "base_uri": "https://localhost:8080/"
        },
        "id": "qnexsCDqA-wW",
        "outputId": "f139ebea-8d74-42d6-bcee-c55f134ff207"
      },
      "execution_count": null,
      "outputs": [
        {
          "output_type": "execute_result",
          "data": {
            "text/plain": [
              "(tensor(1), tensor(7))"
            ]
          },
          "metadata": {},
          "execution_count": 21
        }
      ]
    },
    {
      "cell_type": "code",
      "source": [
        "tensor.max() , tensor.min() #Max and Min"
      ],
      "metadata": {
        "colab": {
          "base_uri": "https://localhost:8080/"
        },
        "id": "eazklxeLBmW6",
        "outputId": "908f4c5a-77dd-4748-9011-d15916814467"
      },
      "execution_count": null,
      "outputs": [
        {
          "output_type": "execute_result",
          "data": {
            "text/plain": [
              "(tensor(7), tensor(1))"
            ]
          },
          "metadata": {},
          "execution_count": 22
        }
      ]
    },
    {
      "cell_type": "code",
      "source": [
        "k = tensor.type(torch.float32)\n",
        "k"
      ],
      "metadata": {
        "colab": {
          "base_uri": "https://localhost:8080/"
        },
        "id": "bR1igT5SB1Sr",
        "outputId": "7c37e8ae-1ecb-4c52-9b73-df873753e0ec"
      },
      "execution_count": null,
      "outputs": [
        {
          "output_type": "execute_result",
          "data": {
            "text/plain": [
              "tensor([[2., 3.],\n",
              "        [1., 7.],\n",
              "        [5., 6.]])"
            ]
          },
          "metadata": {},
          "execution_count": 37
        }
      ]
    },
    {
      "cell_type": "code",
      "source": [
        "k.mean() #Mean of the tensor"
      ],
      "metadata": {
        "colab": {
          "base_uri": "https://localhost:8080/"
        },
        "id": "k_AxJ3PACAU5",
        "outputId": "330150fb-6210-40ab-aa86-643a9509be35"
      },
      "execution_count": null,
      "outputs": [
        {
          "output_type": "execute_result",
          "data": {
            "text/plain": [
              "tensor(4.)"
            ]
          },
          "metadata": {},
          "execution_count": 32
        }
      ]
    },
    {
      "cell_type": "code",
      "source": [
        "# For mean the dtype needs to be float32\n",
        "torch.mean(k)"
      ],
      "metadata": {
        "colab": {
          "base_uri": "https://localhost:8080/"
        },
        "id": "tLoAqh-NCsO3",
        "outputId": "98521972-7149-44d0-f7bd-e0cc20464ec0"
      },
      "execution_count": null,
      "outputs": [
        {
          "output_type": "execute_result",
          "data": {
            "text/plain": [
              "tensor(4.)"
            ]
          },
          "metadata": {},
          "execution_count": 33
        }
      ]
    },
    {
      "cell_type": "code",
      "source": [
        "# Sum\n",
        "torch.sum(k) , k.sum()"
      ],
      "metadata": {
        "colab": {
          "base_uri": "https://localhost:8080/"
        },
        "id": "xGLKBQoOC6OO",
        "outputId": "0ad94b1e-1d69-4ef6-b916-f74d8a668218"
      },
      "execution_count": null,
      "outputs": [
        {
          "output_type": "execute_result",
          "data": {
            "text/plain": [
              "(tensor(24.), tensor(24.))"
            ]
          },
          "metadata": {},
          "execution_count": 34
        }
      ]
    },
    {
      "cell_type": "code",
      "source": [
        "torch.argmin(k) , torch.argmax(k) # Tells the position"
      ],
      "metadata": {
        "colab": {
          "base_uri": "https://localhost:8080/"
        },
        "id": "6g7RC2viDEif",
        "outputId": "ad9ec2b0-be8d-44e9-9fc4-d716c0799761"
      },
      "execution_count": null,
      "outputs": [
        {
          "output_type": "execute_result",
          "data": {
            "text/plain": [
              "(tensor(2), tensor(3))"
            ]
          },
          "metadata": {},
          "execution_count": 39
        }
      ]
    },
    {
      "cell_type": "markdown",
      "source": [
        "##Reshaping, viewing and stacking tensors\n",
        "\n",
        "*Reshaping - reshapes an input tensor to a defined shape.\n",
        "\n",
        "*View - Return a view of an input tensor of certain shape but keep the same memory as the original tensor\n",
        "\n",
        "*Stacking - combine multiple tensors(vstack and hstack)\n",
        "\n",
        "*Squeeze and unsequeeze - removes all '1' dimensions ,add a '1' dimension respectively\n",
        "\n",
        "*Permute - Return a view of an input with dimensions permuted (swapped) in a certain way."
      ],
      "metadata": {
        "id": "3ntDBuOfECzY"
      }
    },
    {
      "cell_type": "code",
      "source": [
        "import torch\n",
        "#Manipulating tensors\n",
        "x = torch.arange(1.,10.,1)\n",
        "x,x.shape,x.dtype"
      ],
      "metadata": {
        "id": "ghS8i7lzEJhE",
        "colab": {
          "base_uri": "https://localhost:8080/"
        },
        "outputId": "7e07d2ed-3d5d-441f-db9c-dc493a0544a9"
      },
      "execution_count": null,
      "outputs": [
        {
          "output_type": "execute_result",
          "data": {
            "text/plain": [
              "(tensor([1., 2., 3., 4., 5., 6., 7., 8., 9.]), torch.Size([9]), torch.float32)"
            ]
          },
          "metadata": {},
          "execution_count": 1
        }
      ]
    },
    {
      "cell_type": "code",
      "source": [
        "#Add an extra dimension\n",
        "x_reshaped = x.reshape(1,9) #can't be (1,7)\n",
        "x_reshaped"
      ],
      "metadata": {
        "colab": {
          "base_uri": "https://localhost:8080/"
        },
        "id": "1WLSlq591efS",
        "outputId": "272934e0-aad9-448b-d8f1-e7e25e5415ee"
      },
      "execution_count": null,
      "outputs": [
        {
          "output_type": "execute_result",
          "data": {
            "text/plain": [
              "tensor([[1., 2., 3., 4., 5., 6., 7., 8., 9.]])"
            ]
          },
          "metadata": {},
          "execution_count": 2
        }
      ]
    },
    {
      "cell_type": "code",
      "source": [
        "x.reshape(3,3)"
      ],
      "metadata": {
        "colab": {
          "base_uri": "https://localhost:8080/"
        },
        "id": "Qm7yKfWU2H-C",
        "outputId": "fd621168-18f8-419b-fa8c-e401f0dac0f2"
      },
      "execution_count": null,
      "outputs": [
        {
          "output_type": "execute_result",
          "data": {
            "text/plain": [
              "tensor([[1., 2., 3.],\n",
              "        [4., 5., 6.],\n",
              "        [7., 8., 9.]])"
            ]
          },
          "metadata": {},
          "execution_count": 16
        }
      ]
    },
    {
      "cell_type": "code",
      "source": [
        "#Change the view\n",
        "#Similar to reshape\n",
        "k = x.view(3,3)\n",
        "x.shape , k.shape"
      ],
      "metadata": {
        "colab": {
          "base_uri": "https://localhost:8080/"
        },
        "id": "rb2RFVEu2KWB",
        "outputId": "dbb31ca7-f70c-4143-ceb6-18c9ca63899b"
      },
      "execution_count": null,
      "outputs": [
        {
          "output_type": "execute_result",
          "data": {
            "text/plain": [
              "(torch.Size([9]), torch.Size([3, 3]))"
            ]
          },
          "metadata": {},
          "execution_count": 23
        }
      ]
    },
    {
      "cell_type": "code",
      "source": [
        "k[:,1]=1\n",
        "k, x #Making changes in k changes x too(k shares the same memory as the original tensor/x)"
      ],
      "metadata": {
        "colab": {
          "base_uri": "https://localhost:8080/"
        },
        "id": "LfKA5evw3flW",
        "outputId": "6dd384e4-5331-4a75-f078-890f48ef1027"
      },
      "execution_count": null,
      "outputs": [
        {
          "output_type": "execute_result",
          "data": {
            "text/plain": [
              "(tensor([[1., 1., 3.],\n",
              "         [4., 1., 6.],\n",
              "         [7., 1., 9.]]),\n",
              " tensor([1., 1., 3., 4., 1., 6., 7., 1., 9.]))"
            ]
          },
          "metadata": {},
          "execution_count": 26
        }
      ]
    },
    {
      "cell_type": "code",
      "source": [
        "#Stacking on top(vstack)\n",
        "a = torch.arange(1,9)\n",
        "b = torch.arange(1,9)\n",
        "k = torch.stack([a,b],dim=0) # Or torch.vstack([a,b])\n",
        "j = torch.stack([a,b],dim=1)\n",
        "k , j , k.shape , j.shape"
      ],
      "metadata": {
        "colab": {
          "base_uri": "https://localhost:8080/"
        },
        "id": "br_0W5X14xoW",
        "outputId": "cd8bbfab-47dc-4413-99a8-d39139a32608"
      },
      "execution_count": null,
      "outputs": [
        {
          "output_type": "execute_result",
          "data": {
            "text/plain": [
              "(tensor([[1, 2, 3, 4, 5, 6, 7, 8],\n",
              "         [1, 2, 3, 4, 5, 6, 7, 8]]),\n",
              " tensor([[1, 1],\n",
              "         [2, 2],\n",
              "         [3, 3],\n",
              "         [4, 4],\n",
              "         [5, 5],\n",
              "         [6, 6],\n",
              "         [7, 7],\n",
              "         [8, 8]]),\n",
              " torch.Size([2, 8]),\n",
              " torch.Size([8, 2]))"
            ]
          },
          "metadata": {},
          "execution_count": 34
        }
      ]
    },
    {
      "cell_type": "code",
      "source": [
        "torch.hstack([a,b]).shape"
      ],
      "metadata": {
        "colab": {
          "base_uri": "https://localhost:8080/"
        },
        "id": "pXV7Eczs5zVh",
        "outputId": "8f7d3179-e6c3-44de-a238-57f7190046d7"
      },
      "execution_count": null,
      "outputs": [
        {
          "output_type": "execute_result",
          "data": {
            "text/plain": [
              "torch.Size([16])"
            ]
          },
          "metadata": {},
          "execution_count": 41
        }
      ]
    },
    {
      "cell_type": "code",
      "source": [
        "x_reshaped.shape"
      ],
      "metadata": {
        "colab": {
          "base_uri": "https://localhost:8080/"
        },
        "id": "uPTrwWCA7ftH",
        "outputId": "16966cb9-c7f3-4826-b740-1a4ec623962e"
      },
      "execution_count": null,
      "outputs": [
        {
          "output_type": "execute_result",
          "data": {
            "text/plain": [
              "torch.Size([1, 9])"
            ]
          },
          "metadata": {},
          "execution_count": 48
        }
      ]
    },
    {
      "cell_type": "code",
      "source": [
        "x_reshaped"
      ],
      "metadata": {
        "colab": {
          "base_uri": "https://localhost:8080/"
        },
        "id": "M5jmUbRb78t8",
        "outputId": "e2ae7711-dd38-4caa-cf52-a136d5ad13be"
      },
      "execution_count": null,
      "outputs": [
        {
          "output_type": "execute_result",
          "data": {
            "text/plain": [
              "tensor([[1., 1., 3., 4., 1., 6., 7., 1., 9.]])"
            ]
          },
          "metadata": {},
          "execution_count": 51
        }
      ]
    },
    {
      "cell_type": "code",
      "source": [
        "torch.squeeze(x_reshaped)# One square bracket removed due to removal of a dimension(removes 1 size dimensions)"
      ],
      "metadata": {
        "colab": {
          "base_uri": "https://localhost:8080/"
        },
        "id": "jPmdX3Tk762S",
        "outputId": "7c43dade-aad4-47d4-a23a-9b6918c7e1fc"
      },
      "execution_count": null,
      "outputs": [
        {
          "output_type": "execute_result",
          "data": {
            "text/plain": [
              "tensor([1., 1., 3., 4., 1., 6., 7., 1., 9.])"
            ]
          },
          "metadata": {},
          "execution_count": 50
        }
      ]
    },
    {
      "cell_type": "code",
      "source": [
        "#Squeeze unsequeeze\n",
        "x_reshaped.shape, torch.squeeze(x_reshaped).shape"
      ],
      "metadata": {
        "colab": {
          "base_uri": "https://localhost:8080/"
        },
        "id": "OrfeVuNl6o08",
        "outputId": "e7a2bf3d-04c9-4c2a-93ee-c1be71be534f"
      },
      "execution_count": null,
      "outputs": [
        {
          "output_type": "execute_result",
          "data": {
            "text/plain": [
              "(torch.Size([1, 9]), torch.Size([9]))"
            ]
          },
          "metadata": {},
          "execution_count": 52
        }
      ]
    },
    {
      "cell_type": "code",
      "source": [
        "# torch.unsqueeze() - adds a single dimension to a target tensor at a specific dim(dimension)\n",
        "r = torch.unsqueeze(x_reshaped,dim=0)\n",
        "r1 = torch.unsqueeze(x_reshaped,dim=1)\n",
        "r2 = torch.unsqueeze(x_reshaped,dim=2)\n",
        "r.shape,r1.shape,r2.shape"
      ],
      "metadata": {
        "colab": {
          "base_uri": "https://localhost:8080/"
        },
        "id": "HJheXzgh8T_q",
        "outputId": "e642b7f0-87f4-478b-9e95-a1fcf19e0cc1"
      },
      "execution_count": null,
      "outputs": [
        {
          "output_type": "execute_result",
          "data": {
            "text/plain": [
              "(torch.Size([1, 1, 9]), torch.Size([1, 1, 9]), torch.Size([1, 9, 1]))"
            ]
          },
          "metadata": {},
          "execution_count": 3
        }
      ]
    },
    {
      "cell_type": "code",
      "source": [
        "r1,x_reshaped"
      ],
      "metadata": {
        "colab": {
          "base_uri": "https://localhost:8080/"
        },
        "id": "8ehDpBKw9Yov",
        "outputId": "bce1f0d2-bf59-459d-cb1c-078f60cebaed"
      },
      "execution_count": null,
      "outputs": [
        {
          "output_type": "execute_result",
          "data": {
            "text/plain": [
              "(tensor([[[1., 2., 3., 4., 5., 6., 7., 8., 9.]]]),\n",
              " tensor([[1., 2., 3., 4., 5., 6., 7., 8., 9.]]))"
            ]
          },
          "metadata": {},
          "execution_count": 4
        }
      ]
    },
    {
      "cell_type": "code",
      "source": [
        "# torch.permute - returns a view of the original tensor with its dimension permuted\n",
        "torch.permute(r1,(2,0,1)).shape , r1.shape"
      ],
      "metadata": {
        "colab": {
          "base_uri": "https://localhost:8080/"
        },
        "id": "orKdcgO8rsG9",
        "outputId": "5f752ede-9b71-44e7-f657-f0f52d893e37"
      },
      "execution_count": null,
      "outputs": [
        {
          "output_type": "execute_result",
          "data": {
            "text/plain": [
              "(torch.Size([9, 1, 1]), torch.Size([1, 1, 9]))"
            ]
          },
          "metadata": {},
          "execution_count": 9
        }
      ]
    },
    {
      "cell_type": "code",
      "source": [
        "print(f'Previous shape:{r1.shape}')\n",
        "print(f'New shape:{torch.permute(r1,(2,0,1)).shape}')"
      ],
      "metadata": {
        "colab": {
          "base_uri": "https://localhost:8080/"
        },
        "id": "kwX0xzYdtaFQ",
        "outputId": "b910fd0e-3053-4f0d-edba-4d84a7661296"
      },
      "execution_count": null,
      "outputs": [
        {
          "output_type": "stream",
          "name": "stdout",
          "text": [
            "Previous shape:torch.Size([1, 1, 9])\n",
            "New shape:torch.Size([9, 1, 1])\n"
          ]
        }
      ]
    },
    {
      "cell_type": "code",
      "source": [
        "k = torch.permute(r1,(2,0,1))\n",
        "r1[0,0,0]=89"
      ],
      "metadata": {
        "id": "lJd3s00Awkqi"
      },
      "execution_count": null,
      "outputs": []
    },
    {
      "cell_type": "code",
      "source": [
        "k[0,0,0]"
      ],
      "metadata": {
        "colab": {
          "base_uri": "https://localhost:8080/"
        },
        "id": "RViS3QMaw1Oh",
        "outputId": "2138724c-6532-4e14-c6c2-2687d8d26983"
      },
      "execution_count": null,
      "outputs": [
        {
          "output_type": "execute_result",
          "data": {
            "text/plain": [
              "tensor(89.)"
            ]
          },
          "metadata": {},
          "execution_count": 31
        }
      ]
    },
    {
      "cell_type": "code",
      "source": [
        "#Indexing\n",
        "import torch\n",
        "q = torch.arange(1,10).reshape(1,3,3)\n",
        "q, q.shape"
      ],
      "metadata": {
        "id": "b77H-1kXyjrD",
        "colab": {
          "base_uri": "https://localhost:8080/"
        },
        "outputId": "58c81087-70b3-4d32-de4f-efd34efb78f4"
      },
      "execution_count": null,
      "outputs": [
        {
          "output_type": "execute_result",
          "data": {
            "text/plain": [
              "(tensor([[[1, 2, 3],\n",
              "          [4, 5, 6],\n",
              "          [7, 8, 9]]]),\n",
              " torch.Size([1, 3, 3]))"
            ]
          },
          "metadata": {},
          "execution_count": 2
        }
      ]
    },
    {
      "cell_type": "code",
      "source": [
        "q[0],   q[0][0],  q[0][0][0]"
      ],
      "metadata": {
        "colab": {
          "base_uri": "https://localhost:8080/"
        },
        "id": "OMycn5BRM1BP",
        "outputId": "c9ca7912-8bb6-4043-d768-a4d68fd94319"
      },
      "execution_count": null,
      "outputs": [
        {
          "output_type": "execute_result",
          "data": {
            "text/plain": [
              "(tensor([[1, 2, 3],\n",
              "         [4, 5, 6],\n",
              "         [7, 8, 9]]),\n",
              " tensor([1, 2, 3]),\n",
              " tensor(1))"
            ]
          },
          "metadata": {},
          "execution_count": 10
        }
      ]
    },
    {
      "cell_type": "markdown",
      "source": [
        "**q[0]-targets the outermost bracket**\n",
        "\n",
        "**q[0][0]-targets the first row**\n",
        "\n",
        "**q[0][0][0]-targets the first element of the first row**"
      ],
      "metadata": {
        "id": "Jpcsz7NINTgB"
      }
    },
    {
      "cell_type": "code",
      "source": [
        "q[0][2][1] #can't be q[1][2][1]"
      ],
      "metadata": {
        "colab": {
          "base_uri": "https://localhost:8080/"
        },
        "id": "Mqyz87tCN4FH",
        "outputId": "72dd0835-b0d4-4e87-b37c-f52a22a0110d"
      },
      "execution_count": null,
      "outputs": [
        {
          "output_type": "execute_result",
          "data": {
            "text/plain": [
              "tensor(8)"
            ]
          },
          "metadata": {},
          "execution_count": 15
        }
      ]
    },
    {
      "cell_type": "markdown",
      "source": [
        "**Actually q(0,3,3) so it has only one dimension at 0 position hence can't be q[1],only q[0]**"
      ],
      "metadata": {
        "id": "-5DK-Ka6OR6A"
      }
    },
    {
      "cell_type": "code",
      "source": [
        "q[1] #Gives error"
      ],
      "metadata": {
        "colab": {
          "base_uri": "https://localhost:8080/",
          "height": 141
        },
        "id": "1SpbKee7OlvE",
        "outputId": "e298449f-1dea-42f4-9359-318a33ce38d8"
      },
      "execution_count": null,
      "outputs": [
        {
          "output_type": "error",
          "ename": "IndexError",
          "evalue": "index 1 is out of bounds for dimension 0 with size 1",
          "traceback": [
            "\u001b[0;31m---------------------------------------------------------------------------\u001b[0m",
            "\u001b[0;31mIndexError\u001b[0m                                Traceback (most recent call last)",
            "\u001b[0;32m<ipython-input-16-0764df93d3e2>\u001b[0m in \u001b[0;36m<cell line: 1>\u001b[0;34m()\u001b[0m\n\u001b[0;32m----> 1\u001b[0;31m \u001b[0mq\u001b[0m\u001b[0;34m[\u001b[0m\u001b[0;36m1\u001b[0m\u001b[0;34m]\u001b[0m\u001b[0;34m\u001b[0m\u001b[0;34m\u001b[0m\u001b[0m\n\u001b[0m",
            "\u001b[0;31mIndexError\u001b[0m: index 1 is out of bounds for dimension 0 with size 1"
          ]
        }
      ]
    },
    {
      "cell_type": "code",
      "source": [
        "# Also use\"\":\" to select all of a target dimension\n",
        "q[:,0] ,q[0]"
      ],
      "metadata": {
        "colab": {
          "base_uri": "https://localhost:8080/"
        },
        "id": "oaKSxxhPOrV3",
        "outputId": "fa1deb66-f276-4ec8-ed93-eca32fd83403"
      },
      "execution_count": null,
      "outputs": [
        {
          "output_type": "execute_result",
          "data": {
            "text/plain": [
              "(tensor([[1, 2, 3]]),\n",
              " tensor([[1, 2, 3],\n",
              "         [4, 5, 6],\n",
              "         [7, 8, 9]]))"
            ]
          },
          "metadata": {},
          "execution_count": 19
        }
      ]
    },
    {
      "cell_type": "code",
      "source": [
        "q[0],q"
      ],
      "metadata": {
        "colab": {
          "base_uri": "https://localhost:8080/"
        },
        "id": "8tLE6vtXD9Po",
        "outputId": "04f5e59b-b39b-41d7-f0fd-f2285ca58768"
      },
      "execution_count": null,
      "outputs": [
        {
          "output_type": "execute_result",
          "data": {
            "text/plain": [
              "(tensor([[1, 2, 3],\n",
              "         [4, 5, 6],\n",
              "         [7, 8, 9]]),\n",
              " tensor([[[1, 2, 3],\n",
              "          [4, 5, 6],\n",
              "          [7, 8, 9]]]))"
            ]
          },
          "metadata": {},
          "execution_count": 6
        }
      ]
    },
    {
      "cell_type": "code",
      "source": [
        "q[:,2],q[:,1],q[:,0]"
      ],
      "metadata": {
        "colab": {
          "base_uri": "https://localhost:8080/"
        },
        "id": "gRg7sG2gDd_z",
        "outputId": "5534cfa4-9345-442f-a8cb-31ec126ff356"
      },
      "execution_count": null,
      "outputs": [
        {
          "output_type": "execute_result",
          "data": {
            "text/plain": [
              "(tensor([[7, 8, 9]]), tensor([[4, 5, 6]]), tensor([[1, 2, 3]]))"
            ]
          },
          "metadata": {},
          "execution_count": 12
        }
      ]
    },
    {
      "cell_type": "code",
      "source": [
        "# Get all values of 0th and the 1st dimension but only index 1 of 2nd dimension\n",
        "q[:,:,:] # Is equals to q (q=q[:,:,:])"
      ],
      "metadata": {
        "colab": {
          "base_uri": "https://localhost:8080/"
        },
        "id": "i4e6apkiD82B",
        "outputId": "8e96c994-4752-4275-a161-8d862449931b"
      },
      "execution_count": null,
      "outputs": [
        {
          "output_type": "execute_result",
          "data": {
            "text/plain": [
              "tensor([[[1, 2, 3],\n",
              "         [4, 5, 6],\n",
              "         [7, 8, 9]]])"
            ]
          },
          "metadata": {},
          "execution_count": 13
        }
      ]
    },
    {
      "cell_type": "code",
      "source": [
        "q[:,:,0],q[:,:,1],q[:,:,2]"
      ],
      "metadata": {
        "colab": {
          "base_uri": "https://localhost:8080/"
        },
        "id": "Lq2OGcsiEZv9",
        "outputId": "424f557d-16f6-46c8-ddf6-eae674e6e965"
      },
      "execution_count": null,
      "outputs": [
        {
          "output_type": "execute_result",
          "data": {
            "text/plain": [
              "(tensor([[1, 4, 7]]), tensor([[2, 5, 8]]), tensor([[3, 6, 9]]))"
            ]
          },
          "metadata": {},
          "execution_count": 14
        }
      ]
    },
    {
      "cell_type": "code",
      "source": [
        "q[:,1,0]"
      ],
      "metadata": {
        "colab": {
          "base_uri": "https://localhost:8080/"
        },
        "id": "ulr6KxwqF19y",
        "outputId": "02469f91-da55-44e1-849c-be48bf07bd59"
      },
      "execution_count": null,
      "outputs": [
        {
          "output_type": "execute_result",
          "data": {
            "text/plain": [
              "tensor([4])"
            ]
          },
          "metadata": {},
          "execution_count": 16
        }
      ]
    },
    {
      "cell_type": "code",
      "source": [
        "q[:,1,:]"
      ],
      "metadata": {
        "colab": {
          "base_uri": "https://localhost:8080/"
        },
        "id": "aV_hB9lsF_EJ",
        "outputId": "ef09143c-779e-4b88-a439-e7da3b763993"
      },
      "execution_count": null,
      "outputs": [
        {
          "output_type": "execute_result",
          "data": {
            "text/plain": [
              "tensor([[4, 5, 6]])"
            ]
          },
          "metadata": {},
          "execution_count": 17
        }
      ]
    },
    {
      "cell_type": "code",
      "source": [
        "q[0][1]"
      ],
      "metadata": {
        "colab": {
          "base_uri": "https://localhost:8080/"
        },
        "id": "qADpiXW5FXvj",
        "outputId": "f4c48e66-c6e1-4c76-c16e-347dc0fe4075"
      },
      "execution_count": null,
      "outputs": [
        {
          "output_type": "execute_result",
          "data": {
            "text/plain": [
              "tensor([4, 5, 6])"
            ]
          },
          "metadata": {},
          "execution_count": 15
        }
      ]
    },
    {
      "cell_type": "markdown",
      "source": [
        "**We use above to get any number from a tensor**"
      ],
      "metadata": {
        "id": "eTMcQO5OGGu6"
      }
    },
    {
      "cell_type": "code",
      "source": [
        "# Get all values of the 0 dimension but only the 1 index value of the 1st and 2nd dimension\n",
        "q[:,1,1] # Selecting middle tensor( ':' selects all the dimension)"
      ],
      "metadata": {
        "colab": {
          "base_uri": "https://localhost:8080/"
        },
        "id": "ZU_vN-HiEpiE",
        "outputId": "1410b500-6f9f-49eb-e7f8-4573d6cf84f9"
      },
      "execution_count": null,
      "outputs": [
        {
          "output_type": "execute_result",
          "data": {
            "text/plain": [
              "tensor([5])"
            ]
          },
          "metadata": {},
          "execution_count": 20
        }
      ]
    },
    {
      "cell_type": "code",
      "source": [
        "q[0,1,1] # Selecting middle value"
      ],
      "metadata": {
        "colab": {
          "base_uri": "https://localhost:8080/"
        },
        "id": "OYLaSKO4G5jD",
        "outputId": "a4aab46a-5681-4e5d-8f0e-6691ce625ce1"
      },
      "execution_count": null,
      "outputs": [
        {
          "output_type": "execute_result",
          "data": {
            "text/plain": [
              "tensor(5)"
            ]
          },
          "metadata": {},
          "execution_count": 21
        }
      ]
    },
    {
      "cell_type": "code",
      "source": [
        "q[0,0,:] # result = tensor"
      ],
      "metadata": {
        "colab": {
          "base_uri": "https://localhost:8080/"
        },
        "id": "YTsRPgnOHiS9",
        "outputId": "c2211d39-52ca-45c1-bd7f-00bda572d626"
      },
      "execution_count": null,
      "outputs": [
        {
          "output_type": "execute_result",
          "data": {
            "text/plain": [
              "tensor([1, 2, 3])"
            ]
          },
          "metadata": {},
          "execution_count": 23
        }
      ]
    },
    {
      "cell_type": "code",
      "source": [
        "#Exercise (value=9)\n",
        "#Using index\n",
        "q[0][2][2]"
      ],
      "metadata": {
        "colab": {
          "base_uri": "https://localhost:8080/"
        },
        "id": "D92GOROuHtVi",
        "outputId": "7d1743ff-d066-40cb-de5d-47a3ac70d784"
      },
      "execution_count": null,
      "outputs": [
        {
          "output_type": "execute_result",
          "data": {
            "text/plain": [
              "tensor(9)"
            ]
          },
          "metadata": {},
          "execution_count": 24
        }
      ]
    },
    {
      "cell_type": "code",
      "source": [
        "q[:,2,2]"
      ],
      "metadata": {
        "colab": {
          "base_uri": "https://localhost:8080/"
        },
        "id": "oFva28NpH7BK",
        "outputId": "027b77c1-28ea-4ad8-de40-656c439fd1cc"
      },
      "execution_count": null,
      "outputs": [
        {
          "output_type": "execute_result",
          "data": {
            "text/plain": [
              "tensor([9])"
            ]
          },
          "metadata": {},
          "execution_count": 25
        }
      ]
    },
    {
      "cell_type": "code",
      "source": [
        "#value = 3,6,9\n",
        "q[:,:,2]"
      ],
      "metadata": {
        "colab": {
          "base_uri": "https://localhost:8080/"
        },
        "id": "PHgnopZKIC3w",
        "outputId": "5b347e60-9489-4356-ae0d-69d2674194b2"
      },
      "execution_count": null,
      "outputs": [
        {
          "output_type": "execute_result",
          "data": {
            "text/plain": [
              "tensor([[3, 6, 9]])"
            ]
          },
          "metadata": {},
          "execution_count": 26
        }
      ]
    },
    {
      "cell_type": "markdown",
      "source": [
        "##**PyTorch tensors and Numpy**\n",
        "\n",
        "* NumPy is a popular scientific python\n",
        "numerical computing library\n",
        "* That is why pyTorch has functionality to interact with it.\n",
        "* Data in NumPy,want in PyTorch tensor -> **torch.from_numpy(ndarray)**\n",
        "* PyTorch tensor->NumPy-> **torch.Tensor.numpy()**"
      ],
      "metadata": {
        "id": "edM4XCJnIkK0"
      }
    },
    {
      "cell_type": "code",
      "source": [
        "#NumPy array to tensor\n",
        "import numpy as np\n",
        "array = np.arange(1.0,8.0)\n",
        "T = torch.from_numpy(array)"
      ],
      "metadata": {
        "id": "fhUQ4tW1IPMD"
      },
      "execution_count": null,
      "outputs": []
    },
    {
      "cell_type": "code",
      "source": [
        "T ,array"
      ],
      "metadata": {
        "colab": {
          "base_uri": "https://localhost:8080/"
        },
        "id": "AkVgORTZLQJ_",
        "outputId": "7ede700b-bab0-4b95-eb1f-f1f4496a9eeb"
      },
      "execution_count": null,
      "outputs": [
        {
          "output_type": "execute_result",
          "data": {
            "text/plain": [
              "(tensor([1., 2., 3., 4., 5., 6., 7.], dtype=torch.float64),\n",
              " array([1., 2., 3., 4., 5., 6., 7.]))"
            ]
          },
          "metadata": {},
          "execution_count": 39
        }
      ]
    },
    {
      "cell_type": "code",
      "source": [
        "T.dtype,array.dtype"
      ],
      "metadata": {
        "colab": {
          "base_uri": "https://localhost:8080/"
        },
        "id": "HUpm3InuLX_t",
        "outputId": "58ed9dbf-be0d-4588-ba1f-aa2f2e231671"
      },
      "execution_count": null,
      "outputs": [
        {
          "output_type": "execute_result",
          "data": {
            "text/plain": [
              "(torch.float64, dtype('float64'))"
            ]
          },
          "metadata": {},
          "execution_count": 40
        }
      ]
    },
    {
      "cell_type": "code",
      "source": [
        "#Warning when converting from numpy to pytorch, pytorch reflects numpy's default datatype of float64 unless specified otherwise.\n",
        "k = T.type(torch.float32)\n",
        "k.dtype"
      ],
      "metadata": {
        "colab": {
          "base_uri": "https://localhost:8080/"
        },
        "id": "A0hehx-6LwWm",
        "outputId": "086dd0fb-6f91-4929-dd71-bfc018f8a822"
      },
      "execution_count": null,
      "outputs": [
        {
          "output_type": "execute_result",
          "data": {
            "text/plain": [
              "torch.float32"
            ]
          },
          "metadata": {},
          "execution_count": 69
        }
      ]
    },
    {
      "cell_type": "code",
      "source": [
        "k.dtype"
      ],
      "metadata": {
        "colab": {
          "base_uri": "https://localhost:8080/"
        },
        "id": "MClIVeRVNr4n",
        "outputId": "f4fdc62a-ade5-4b40-bd83-decf5b751bf8"
      },
      "execution_count": null,
      "outputs": [
        {
          "output_type": "execute_result",
          "data": {
            "text/plain": [
              "torch.float32"
            ]
          },
          "metadata": {},
          "execution_count": 70
        }
      ]
    },
    {
      "cell_type": "code",
      "source": [
        "#Change the value of array\n",
        "array = array + 1\n",
        "array"
      ],
      "metadata": {
        "colab": {
          "base_uri": "https://localhost:8080/"
        },
        "id": "VPcMIbTgMLWg",
        "outputId": "d5b5ed53-45b0-438a-d7d9-a5a1b40cd035"
      },
      "execution_count": null,
      "outputs": [
        {
          "output_type": "execute_result",
          "data": {
            "text/plain": [
              "array([2., 3., 4., 5., 6., 7., 8.])"
            ]
          },
          "metadata": {},
          "execution_count": 53
        }
      ]
    },
    {
      "cell_type": "code",
      "source": [
        "T # So changing the array did not change the value of the tensor"
      ],
      "metadata": {
        "colab": {
          "base_uri": "https://localhost:8080/"
        },
        "id": "Ny3wuWuCMv_h",
        "outputId": "8740845a-b6f4-4520-f577-004e33a4d58f"
      },
      "execution_count": null,
      "outputs": [
        {
          "output_type": "execute_result",
          "data": {
            "text/plain": [
              "tensor([1., 2., 3., 4., 5., 6., 7.], dtype=torch.float64)"
            ]
          },
          "metadata": {},
          "execution_count": 55
        }
      ]
    },
    {
      "cell_type": "code",
      "source": [
        "# Tensor to NumPy array\n",
        "k.numpy()"
      ],
      "metadata": {
        "colab": {
          "base_uri": "https://localhost:8080/"
        },
        "id": "EqLWaQTBM6kN",
        "outputId": "457ca286-d294-4a3d-8e7a-0b22c2ae2087"
      },
      "execution_count": null,
      "outputs": [
        {
          "output_type": "execute_result",
          "data": {
            "text/plain": [
              "array([1., 2., 3., 4., 5., 6., 7.], dtype=float32)"
            ]
          },
          "metadata": {},
          "execution_count": 72
        }
      ]
    },
    {
      "cell_type": "code",
      "source": [
        "u = torch.ones(1,7)\n",
        "o = u.numpy()\n",
        "# From pytorch to numpy->default dtype of numpy = float64\n",
        "# From numpy to pytorch->default dtype of pytorch = float32"
      ],
      "metadata": {
        "id": "NeSzuRGZOCWX"
      },
      "execution_count": null,
      "outputs": []
    },
    {
      "cell_type": "code",
      "source": [
        "u"
      ],
      "metadata": {
        "colab": {
          "base_uri": "https://localhost:8080/"
        },
        "id": "xQfjxpAFPC2d",
        "outputId": "32deff14-ad82-4362-fae3-5036cb1f9201"
      },
      "execution_count": null,
      "outputs": [
        {
          "output_type": "execute_result",
          "data": {
            "text/plain": [
              "tensor([[1., 1., 1., 1., 1., 1., 1.]])"
            ]
          },
          "metadata": {},
          "execution_count": 85
        }
      ]
    },
    {
      "cell_type": "code",
      "source": [
        "# Changing tensor\n",
        "u=u+1"
      ],
      "metadata": {
        "id": "xSyBn9QpOjZn"
      },
      "execution_count": null,
      "outputs": []
    },
    {
      "cell_type": "code",
      "source": [
        "u,o"
      ],
      "metadata": {
        "colab": {
          "base_uri": "https://localhost:8080/"
        },
        "id": "49TZgLWxOzoM",
        "outputId": "33d42dcc-a1d8-476b-f527-eb182de9dcdb"
      },
      "execution_count": null,
      "outputs": [
        {
          "output_type": "execute_result",
          "data": {
            "text/plain": [
              "(tensor([[2., 2., 2., 2., 2., 2., 2.]]),\n",
              " array([[1., 1., 1., 1., 1., 1., 1.]], dtype=float32))"
            ]
          },
          "metadata": {},
          "execution_count": 87
        }
      ]
    },
    {
      "cell_type": "markdown",
      "source": [
        "**Changing the tensor doesn't change the array**"
      ],
      "metadata": {
        "id": "g-1s3gjwPHNi"
      }
    },
    {
      "cell_type": "markdown",
      "source": [
        "# PyTorch reproducibility (taking random out of the random)\n",
        "* Neural networks start with random numbers\n",
        "* Apply tensor operation\n",
        "* Update random numbers to try and manke them a better representation of the data\n",
        "* Again and again and again....\n"
      ],
      "metadata": {
        "id": "o4EeZmgWPeP4"
      }
    },
    {
      "cell_type": "code",
      "source": [
        "# Basically if we write torch.rand(3,3) it is going to generate a random set of values every single time.\n",
        "torch.rand(3,3)"
      ],
      "metadata": {
        "colab": {
          "base_uri": "https://localhost:8080/"
        },
        "id": "4EDBZaTPQZGO",
        "outputId": "06666c1c-585d-43ad-fc42-4f2b544a950a"
      },
      "execution_count": null,
      "outputs": [
        {
          "output_type": "execute_result",
          "data": {
            "text/plain": [
              "tensor([[0.8029, 0.1823, 0.7307],\n",
              "        [0.5611, 0.2155, 0.6019],\n",
              "        [0.3362, 0.3681, 0.7846]])"
            ]
          },
          "metadata": {},
          "execution_count": 89
        }
      ]
    },
    {
      "cell_type": "code",
      "source": [
        "torch.rand(3,3)"
      ],
      "metadata": {
        "colab": {
          "base_uri": "https://localhost:8080/"
        },
        "id": "YxJoH4czRbQk",
        "outputId": "d48420a9-838d-4f02-dafd-3e0b7fb9f7b5"
      },
      "execution_count": null,
      "outputs": [
        {
          "output_type": "execute_result",
          "data": {
            "text/plain": [
              "tensor([[0.8577, 0.6114, 0.3610],\n",
              "        [0.6076, 0.5051, 0.6676],\n",
              "        [0.9890, 0.6865, 0.3193]])"
            ]
          },
          "metadata": {},
          "execution_count": 90
        }
      ]
    },
    {
      "cell_type": "markdown",
      "source": [
        " *Hence to reduce the randomness in NN and pytorch comes the concept of* ***random seed***\n",
        " *Essentialy it \"Flavour \" the randomness*"
      ],
      "metadata": {
        "id": "vL0MJBViRejf"
      }
    },
    {
      "cell_type": "code",
      "source": [
        "#Create two random tensors\n",
        "A = torch.rand(3,4)\n",
        "B = torch.rand(3,4)\n",
        "print(A)\n",
        "print(B)\n",
        "print(A==B)#Comparison operator"
      ],
      "metadata": {
        "colab": {
          "base_uri": "https://localhost:8080/"
        },
        "id": "HfQOd1DZSy3A",
        "outputId": "f764c18b-a7ac-493a-b9c8-79fd05981ce2"
      },
      "execution_count": null,
      "outputs": [
        {
          "output_type": "stream",
          "name": "stdout",
          "text": [
            "tensor([[0.2117, 0.9601, 0.1853, 0.8123],\n",
            "        [0.4533, 0.4340, 0.6703, 0.0572],\n",
            "        [0.0127, 0.9428, 0.1887, 0.3096]])\n",
            "tensor([[0.5825, 0.6583, 0.2929, 0.3693],\n",
            "        [0.6865, 0.2942, 0.9013, 0.1626],\n",
            "        [0.5435, 0.1510, 0.1531, 0.0608]])\n",
            "tensor([[False, False, False, False],\n",
            "        [False, False, False, False],\n",
            "        [False, False, False, False]])\n"
          ]
        }
      ]
    },
    {
      "cell_type": "code",
      "source": [
        "# Lets make some random but reproducible random numbers\n",
        "#Set the random seed\n",
        "Random_seed = 42 #set to some numerical values(most common : 42,0,1234,77,100)\n",
        "#FLAVORED RANDOMNESS WITH 42\n",
        "torch.manual_seed(Random_seed)\n",
        "E = torch.rand(3,4)\n",
        "R = torch.rand(3,4)\n",
        "print(E),print(R),\n",
        "print(E==R)"
      ],
      "metadata": {
        "colab": {
          "base_uri": "https://localhost:8080/"
        },
        "id": "jrPOvNt1Tg5Q",
        "outputId": "6cddc267-6d0a-4b3f-a3d9-b3a769c4108e"
      },
      "execution_count": null,
      "outputs": [
        {
          "output_type": "stream",
          "name": "stdout",
          "text": [
            "tensor([[0.8823, 0.9150, 0.3829, 0.9593],\n",
            "        [0.3904, 0.6009, 0.2566, 0.7936],\n",
            "        [0.9408, 0.1332, 0.9346, 0.5936]])\n",
            "tensor([[0.8694, 0.5677, 0.7411, 0.4294],\n",
            "        [0.8854, 0.5739, 0.2666, 0.6274],\n",
            "        [0.2696, 0.4414, 0.2969, 0.8317]])\n",
            "tensor([[False, False, False, False],\n",
            "        [False, False, False, False],\n",
            "        [False, False, False, False]])\n"
          ]
        }
      ]
    },
    {
      "cell_type": "code",
      "source": [
        "#FIX THIS.HOW?\n",
        "torch.manual_seed(Random_seed)\n",
        "R = torch.rand(3,4)\n",
        "R"
      ],
      "metadata": {
        "colab": {
          "base_uri": "https://localhost:8080/"
        },
        "id": "1mliYd0kYAlB",
        "outputId": "644fd3e8-52ed-44c8-9531-057d31c14a7c"
      },
      "execution_count": null,
      "outputs": [
        {
          "output_type": "execute_result",
          "data": {
            "text/plain": [
              "tensor([[0.8823, 0.9150, 0.3829, 0.9593],\n",
              "        [0.3904, 0.6009, 0.2566, 0.7936],\n",
              "        [0.9408, 0.1332, 0.9346, 0.5936]])"
            ]
          },
          "metadata": {},
          "execution_count": 100
        }
      ]
    },
    {
      "cell_type": "code",
      "source": [
        "print(R) , print(E==R)"
      ],
      "metadata": {
        "colab": {
          "base_uri": "https://localhost:8080/"
        },
        "id": "A0OoCqLzYg9S",
        "outputId": "dd8ce77a-a346-4b2a-c0e2-7c5e5ed41c6f"
      },
      "execution_count": null,
      "outputs": [
        {
          "output_type": "stream",
          "name": "stdout",
          "text": [
            "tensor([[0.8823, 0.9150, 0.3829, 0.9593],\n",
            "        [0.3904, 0.6009, 0.2566, 0.7936],\n",
            "        [0.9408, 0.1332, 0.9346, 0.5936]])\n",
            "tensor([[True, True, True, True],\n",
            "        [True, True, True, True],\n",
            "        [True, True, True, True]])\n"
          ]
        },
        {
          "output_type": "execute_result",
          "data": {
            "text/plain": [
              "(None, None)"
            ]
          },
          "metadata": {},
          "execution_count": 101
        }
      ]
    },
    {
      "cell_type": "markdown",
      "source": [
        "**Torch.manual_seed generally works for one block of code**\n",
        "* Use *torch.manual_seed* everytime you want to use random(rand) method"
      ],
      "metadata": {
        "id": "4uauTcIVYowR"
      }
    },
    {
      "cell_type": "markdown",
      "source": [
        "## Running tensors and pytorch objects on the GPUs(and making faster computations)\n",
        "\n",
        "GPUs = faster computation on numbers,thanks to CUDA + NVIDIA hardware +PyTorch working behind the scenes to make e everything good."
      ],
      "metadata": {
        "id": "YkyzvHIbY1La"
      }
    },
    {
      "cell_type": "markdown",
      "source": [
        "### 1.Getting a GPU\n",
        "1. Easiest-Google colab\n",
        "2. Use your own GPU-takesalitle bit setup and requires the investment of purchasing a GPU\n",
        "3. Use cloud computing- GCP,AWS,Azure,these services allow you to rent computers on the cloud and access them"
      ],
      "metadata": {
        "id": "vvQZ6SONg7Ri"
      }
    },
    {
      "cell_type": "code",
      "source": [
        "!nvidia-smi"
      ],
      "metadata": {
        "colab": {
          "base_uri": "https://localhost:8080/"
        },
        "id": "6HG7-3PGFoMW",
        "outputId": "1f9d6e27-5266-4c79-b68b-c5519cbff923"
      },
      "execution_count": null,
      "outputs": [
        {
          "output_type": "stream",
          "name": "stdout",
          "text": [
            "Wed Mar  6 09:30:07 2024       \n",
            "+---------------------------------------------------------------------------------------+\n",
            "| NVIDIA-SMI 535.104.05             Driver Version: 535.104.05   CUDA Version: 12.2     |\n",
            "|-----------------------------------------+----------------------+----------------------+\n",
            "| GPU  Name                 Persistence-M | Bus-Id        Disp.A | Volatile Uncorr. ECC |\n",
            "| Fan  Temp   Perf          Pwr:Usage/Cap |         Memory-Usage | GPU-Util  Compute M. |\n",
            "|                                         |                      |               MIG M. |\n",
            "|=========================================+======================+======================|\n",
            "|   0  Tesla T4                       Off | 00000000:00:04.0 Off |                    0 |\n",
            "| N/A   51C    P8              12W /  70W |      0MiB / 15360MiB |      0%      Default |\n",
            "|                                         |                      |                  N/A |\n",
            "+-----------------------------------------+----------------------+----------------------+\n",
            "                                                                                         \n",
            "+---------------------------------------------------------------------------------------+\n",
            "| Processes:                                                                            |\n",
            "|  GPU   GI   CI        PID   Type   Process name                            GPU Memory |\n",
            "|        ID   ID                                                             Usage      |\n",
            "|=======================================================================================|\n",
            "|  No running processes found                                                           |\n",
            "+---------------------------------------------------------------------------------------+\n"
          ]
        }
      ]
    },
    {
      "cell_type": "markdown",
      "source": [
        "### 2. Check for GPU access with PyTorch\n"
      ],
      "metadata": {
        "id": "dQGCuPGhGiTt"
      }
    },
    {
      "cell_type": "code",
      "source": [
        "#Check for GPU access with Pytorch\n",
        "import torch\n",
        "torch.cuda.is_available()"
      ],
      "metadata": {
        "colab": {
          "base_uri": "https://localhost:8080/"
        },
        "id": "rVdpR6_iGp_z",
        "outputId": "bb682622-a779-46cf-c24a-6a1d0f791c3a"
      },
      "execution_count": null,
      "outputs": [
        {
          "output_type": "execute_result",
          "data": {
            "text/plain": [
              "True"
            ]
          },
          "metadata": {},
          "execution_count": 6
        }
      ]
    },
    {
      "cell_type": "code",
      "source": [
        "#Setup device agnostic code\n",
        "import torch\n",
        "if torch.cuda.is_available():\n",
        "  device = 'cuda'\n",
        "else:\n",
        "  device = 'cpu'"
      ],
      "metadata": {
        "id": "J7nWn9rZG98C"
      },
      "execution_count": null,
      "outputs": []
    },
    {
      "cell_type": "code",
      "source": [
        "device"
      ],
      "metadata": {
        "colab": {
          "base_uri": "https://localhost:8080/",
          "height": 35
        },
        "id": "OdOtG24hlXIn",
        "outputId": "5bbfc57f-38d9-415d-ac21-5076f3f9c370"
      },
      "execution_count": null,
      "outputs": [
        {
          "output_type": "execute_result",
          "data": {
            "text/plain": [
              "'cuda'"
            ],
            "application/vnd.google.colaboratory.intrinsic+json": {
              "type": "string"
            }
          },
          "metadata": {},
          "execution_count": 4
        }
      ]
    },
    {
      "cell_type": "code",
      "source": [
        "#Count number od devices\n",
        "torch.cuda.device_count()"
      ],
      "metadata": {
        "colab": {
          "base_uri": "https://localhost:8080/"
        },
        "id": "iC90RsRxlJdU",
        "outputId": "35ac50d9-ba88-4b1c-de72-fcad25aedce8"
      },
      "execution_count": null,
      "outputs": [
        {
          "output_type": "execute_result",
          "data": {
            "text/plain": [
              "1"
            ]
          },
          "metadata": {},
          "execution_count": 5
        }
      ]
    },
    {
      "cell_type": "markdown",
      "source": [
        "**For PyTorch since it is capable of running compute on the GPU or CPU,it's best practice to setup device agnostic code**\n",
        "e.g.run on GPU if availai=able,else default to CPU"
      ],
      "metadata": {
        "id": "84ABZrNxlrnT"
      }
    },
    {
      "cell_type": "code",
      "source": [
        "#Setting up device agnostic code and putting tensors on and off the GPU\n",
        "#Colab gives us free access to GPU"
      ],
      "metadata": {
        "id": "JRl4Jw3ZH4GD"
      },
      "execution_count": null,
      "outputs": []
    },
    {
      "cell_type": "markdown",
      "source": [
        "## 3. Putting tensors (and models on the GPU)\n",
        "\n",
        "The reason we wamt our tensors/models on the GPU is because using GPU results in faster computation.\n",
        "ML models define patterns and numbers,GPU are great for numerical calculations(Tensor operation)/faster computation or calculations"
      ],
      "metadata": {
        "id": "6InZB0lsnam3"
      }
    },
    {
      "cell_type": "code",
      "source": [
        "#Create a tensor(default on the CPU)\n",
        "y = torch.tensor([1,2,3])\n",
        "y.device"
      ],
      "metadata": {
        "colab": {
          "base_uri": "https://localhost:8080/"
        },
        "id": "xu3McWEdoNRB",
        "outputId": "21c8f2c0-8897-4bfe-d22b-861c28d4d54d"
      },
      "execution_count": null,
      "outputs": [
        {
          "output_type": "execute_result",
          "data": {
            "text/plain": [
              "device(type='cpu')"
            ]
          },
          "metadata": {},
          "execution_count": 10
        }
      ]
    },
    {
      "cell_type": "markdown",
      "source": [
        "##Moving tensor to GPU"
      ],
      "metadata": {
        "id": "nt0XcatGpRWh"
      }
    },
    {
      "cell_type": "code",
      "source": [
        "# Move y(tensor) to GPU (if available)\n",
        "y_on_GPU = y.to(device)#very commonly used\n",
        "y_on_GPU.device"
      ],
      "metadata": {
        "colab": {
          "base_uri": "https://localhost:8080/"
        },
        "id": "VqCSAPihngGO",
        "outputId": "c3066f14-7a07-4060-f106-3ba0df728a59"
      },
      "execution_count": null,
      "outputs": [
        {
          "output_type": "execute_result",
          "data": {
            "text/plain": [
              "device(type='cuda', index=0)"
            ]
          },
          "metadata": {},
          "execution_count": 13
        }
      ]
    },
    {
      "cell_type": "markdown",
      "source": [
        "**Numpy only works with CPU**\n",
        "\n"
      ],
      "metadata": {
        "id": "2TcG5_9RpChd"
      }
    },
    {
      "cell_type": "markdown",
      "source": [
        "## Moving y from GPU back to CPU"
      ],
      "metadata": {
        "id": "d80YhuUEpglq"
      }
    },
    {
      "cell_type": "code",
      "source": [
        "#Tensor on GPU,can't transfor to numpy\n",
        "y_on_GPU.numpy()"
      ],
      "metadata": {
        "colab": {
          "base_uri": "https://localhost:8080/",
          "height": 159
        },
        "id": "b3gcXNP6piT0",
        "outputId": "0af20456-e1b9-41fe-dbd5-3e3283c6e3a8"
      },
      "execution_count": null,
      "outputs": [
        {
          "output_type": "error",
          "ename": "TypeError",
          "evalue": "can't convert cuda:0 device type tensor to numpy. Use Tensor.cpu() to copy the tensor to host memory first.",
          "traceback": [
            "\u001b[0;31m---------------------------------------------------------------------------\u001b[0m",
            "\u001b[0;31mTypeError\u001b[0m                                 Traceback (most recent call last)",
            "\u001b[0;32m<ipython-input-16-abda092543e0>\u001b[0m in \u001b[0;36m<cell line: 2>\u001b[0;34m()\u001b[0m\n\u001b[1;32m      1\u001b[0m \u001b[0;31m#Tensor on GPU,can't transfor to numpy\u001b[0m\u001b[0;34m\u001b[0m\u001b[0;34m\u001b[0m\u001b[0m\n\u001b[0;32m----> 2\u001b[0;31m \u001b[0my_on_GPU\u001b[0m\u001b[0;34m.\u001b[0m\u001b[0mnumpy\u001b[0m\u001b[0;34m(\u001b[0m\u001b[0;34m)\u001b[0m\u001b[0;34m\u001b[0m\u001b[0;34m\u001b[0m\u001b[0m\n\u001b[0m",
            "\u001b[0;31mTypeError\u001b[0m: can't convert cuda:0 device type tensor to numpy. Use Tensor.cpu() to copy the tensor to host memory first."
          ]
        }
      ]
    },
    {
      "cell_type": "markdown",
      "source": [
        "**This the 3rd tensor issue discussed earlier (device issue)**"
      ],
      "metadata": {
        "id": "9C1X6H9Pp-i2"
      }
    },
    {
      "cell_type": "code",
      "source": [
        "#Set y_on_GPU to the CPU to resolve this problem\n",
        "y_back_to_CPU = y_on_GPU.cpu()"
      ],
      "metadata": {
        "id": "eshMeOruqZww"
      },
      "execution_count": null,
      "outputs": []
    },
    {
      "cell_type": "code",
      "source": [
        "y_back_to_CPU .device\n"
      ],
      "metadata": {
        "colab": {
          "base_uri": "https://localhost:8080/"
        },
        "id": "WsAqr5tUq1QI",
        "outputId": "fade3984-e4f9-4db5-9d45-f8a109365a81"
      },
      "execution_count": null,
      "outputs": [
        {
          "output_type": "execute_result",
          "data": {
            "text/plain": [
              "device(type='cpu')"
            ]
          },
          "metadata": {},
          "execution_count": 18
        }
      ]
    },
    {
      "cell_type": "code",
      "source": [
        "y_back_to_CPU.numpy()"
      ],
      "metadata": {
        "colab": {
          "base_uri": "https://localhost:8080/"
        },
        "id": "4BwFFo62q4Ip",
        "outputId": "29240c66-b508-48d7-f0a7-03c49ce23ac6"
      },
      "execution_count": null,
      "outputs": [
        {
          "output_type": "execute_result",
          "data": {
            "text/plain": [
              "array([1, 2, 3])"
            ]
          },
          "metadata": {},
          "execution_count": 19
        }
      ]
    },
    {
      "cell_type": "code",
      "source": [
        "y_on_GPU # Remains unchanged"
      ],
      "metadata": {
        "colab": {
          "base_uri": "https://localhost:8080/"
        },
        "id": "wq55iaEurA7u",
        "outputId": "c37708f9-7b8e-4eae-f741-056c83841490"
      },
      "execution_count": null,
      "outputs": [
        {
          "output_type": "execute_result",
          "data": {
            "text/plain": [
              "tensor([1, 2, 3], device='cuda:0')"
            ]
          },
          "metadata": {},
          "execution_count": 22
        }
      ]
    },
    {
      "cell_type": "code",
      "source": [
        "## Exercises and Extra-curriculum"
      ],
      "metadata": {
        "id": "da2DvKc0rGEG"
      },
      "execution_count": null,
      "outputs": []
    },
    {
      "cell_type": "code",
      "source": [
        "#Random tensor with shape(7,7)\n",
        "p = torch.rand(7,7)\n",
        "p"
      ],
      "metadata": {
        "colab": {
          "base_uri": "https://localhost:8080/"
        },
        "id": "K9lPHQvPsyyL",
        "outputId": "19afb4d6-9314-462d-878c-b4792498fd7e"
      },
      "execution_count": null,
      "outputs": [
        {
          "output_type": "execute_result",
          "data": {
            "text/plain": [
              "tensor([[0.9244, 0.9395, 0.0331, 0.7749, 0.9918, 0.7117, 0.5862],\n",
              "        [0.8158, 0.2985, 0.6766, 0.8550, 0.2370, 0.3536, 0.1543],\n",
              "        [0.5445, 0.1857, 0.4622, 0.2112, 0.3035, 0.1118, 0.7675],\n",
              "        [0.3101, 0.7704, 0.2481, 0.3619, 0.4777, 0.7369, 0.5791],\n",
              "        [0.7796, 0.7383, 0.7626, 0.1030, 0.2443, 0.8684, 0.9015],\n",
              "        [0.3848, 0.3125, 0.3572, 0.5773, 0.2717, 0.4290, 0.8132],\n",
              "        [0.3142, 0.2015, 0.1345, 0.2549, 0.2869, 0.1551, 0.5963]])"
            ]
          },
          "metadata": {},
          "execution_count": 25
        }
      ]
    },
    {
      "cell_type": "code",
      "source": [
        "R = torch.rand(1,7).T"
      ],
      "metadata": {
        "id": "pCCe9bRouiqc"
      },
      "execution_count": null,
      "outputs": []
    },
    {
      "cell_type": "code",
      "source": [
        "U = torch.mul(p,R) # Or use p*R (7,7)\n",
        "W = torch.matmul(p,R) # Or use p@R (7,1)\n",
        "q = p*R\n",
        "a = p@R"
      ],
      "metadata": {
        "id": "ntzyQ2eLtJh_"
      },
      "execution_count": null,
      "outputs": []
    },
    {
      "cell_type": "code",
      "source": [
        "U.shape,W.shape,q.shape,a.shape"
      ],
      "metadata": {
        "colab": {
          "base_uri": "https://localhost:8080/"
        },
        "id": "om5FKFV-vBUR",
        "outputId": "e39ffdb5-9be9-4e2c-b42c-899b4ade25a9"
      },
      "execution_count": null,
      "outputs": [
        {
          "output_type": "execute_result",
          "data": {
            "text/plain": [
              "(torch.Size([7, 7]),\n",
              " torch.Size([7, 1]),\n",
              " torch.Size([7, 7]),\n",
              " torch.Size([7, 1]))"
            ]
          },
          "metadata": {},
          "execution_count": 38
        }
      ]
    },
    {
      "cell_type": "code",
      "source": [
        "W"
      ],
      "metadata": {
        "colab": {
          "base_uri": "https://localhost:8080/"
        },
        "id": "M9iSmWYdvfJy",
        "outputId": "466c533f-7d1f-4df0-9bd4-02d7bc13e43f"
      },
      "execution_count": null,
      "outputs": [
        {
          "output_type": "execute_result",
          "data": {
            "text/plain": [
              "tensor([[2.5437],\n",
              "        [1.4159],\n",
              "        [1.2033],\n",
              "        [2.0833],\n",
              "        [2.4228],\n",
              "        [1.5472],\n",
              "        [0.9389]])"
            ]
          },
          "metadata": {},
          "execution_count": 40
        }
      ]
    },
    {
      "cell_type": "code",
      "source": [
        "random_seed = 0\n",
        "torch.manual_seed(random_seed)\n",
        "X = torch.rand(7,7)\n",
        "torch.manual_seed(random_seed)\n",
        "Y = torch.rand(1,7)"
      ],
      "metadata": {
        "id": "KNu4LCoMvl2m"
      },
      "execution_count": null,
      "outputs": []
    },
    {
      "cell_type": "code",
      "source": [
        "X , Y"
      ],
      "metadata": {
        "colab": {
          "base_uri": "https://localhost:8080/"
        },
        "id": "icjhgYNBvumc",
        "outputId": "ce398d16-34ef-4df2-99b5-1d362d467e0c"
      },
      "execution_count": null,
      "outputs": [
        {
          "output_type": "execute_result",
          "data": {
            "text/plain": [
              "(tensor([[0.4963, 0.7682, 0.0885, 0.1320, 0.3074, 0.6341, 0.4901],\n",
              "         [0.8964, 0.4556, 0.6323, 0.3489, 0.4017, 0.0223, 0.1689],\n",
              "         [0.2939, 0.5185, 0.6977, 0.8000, 0.1610, 0.2823, 0.6816],\n",
              "         [0.9152, 0.3971, 0.8742, 0.4194, 0.5529, 0.9527, 0.0362],\n",
              "         [0.1852, 0.3734, 0.3051, 0.9320, 0.1759, 0.2698, 0.1507],\n",
              "         [0.0317, 0.2081, 0.9298, 0.7231, 0.7423, 0.5263, 0.2437],\n",
              "         [0.5846, 0.0332, 0.1387, 0.2422, 0.8155, 0.7932, 0.2783]]),\n",
              " tensor([[0.4963, 0.7682, 0.0885, 0.1320, 0.3074, 0.6341, 0.4901]]))"
            ]
          },
          "metadata": {},
          "execution_count": 46
        }
      ]
    },
    {
      "cell_type": "code",
      "source": [
        "torch.matmul(X,Y.T)"
      ],
      "metadata": {
        "colab": {
          "base_uri": "https://localhost:8080/"
        },
        "id": "qTvXfkrawBDX",
        "outputId": "18aa57d2-8e30-4688-8888-63f0f0bf07d1"
      },
      "execution_count": null,
      "outputs": [
        {
          "output_type": "execute_result",
          "data": {
            "text/plain": [
              "tensor([[1.5985],\n",
              "        [1.1173],\n",
              "        [1.2741],\n",
              "        [1.6838],\n",
              "        [0.8279],\n",
              "        [1.0347],\n",
              "        [1.2498]])"
            ]
          },
          "metadata": {},
          "execution_count": 47
        }
      ]
    },
    {
      "cell_type": "code",
      "source": [
        "torch.cuda.manual_seed(1234)"
      ],
      "metadata": {
        "id": "EDLyB-v8wZUt"
      },
      "execution_count": null,
      "outputs": []
    },
    {
      "cell_type": "code",
      "source": [
        "##6\n",
        "torch.manual_seed(1234)\n",
        "w = torch.rand(2,3)\n",
        "w_new = w.to(device)\n",
        "torch.manual_seed(1234)\n",
        "r = torch.rand(2,3)\n",
        "r_new = r.to(device)\n",
        "w,r,w_new,r_new"
      ],
      "metadata": {
        "colab": {
          "base_uri": "https://localhost:8080/"
        },
        "id": "hbzvqCwZ0cnW",
        "outputId": "7e0c0a47-9a34-463b-ce62-aeca69eebde8"
      },
      "execution_count": null,
      "outputs": [
        {
          "output_type": "execute_result",
          "data": {
            "text/plain": [
              "(tensor([[0.0290, 0.4019, 0.2598],\n",
              "         [0.3666, 0.0583, 0.7006]]),\n",
              " tensor([[0.0290, 0.4019, 0.2598],\n",
              "         [0.3666, 0.0583, 0.7006]]),\n",
              " tensor([[0.0290, 0.4019, 0.2598],\n",
              "         [0.3666, 0.0583, 0.7006]], device='cuda:0'),\n",
              " tensor([[0.0290, 0.4019, 0.2598],\n",
              "         [0.3666, 0.0583, 0.7006]], device='cuda:0'))"
            ]
          },
          "metadata": {},
          "execution_count": 61
        }
      ]
    },
    {
      "cell_type": "code",
      "source": [
        "#Checking for th access of GPU\n",
        "device ='cuda' if torch.cuda.is_available() else 'cpu'"
      ],
      "metadata": {
        "id": "2GdUjQ0W1aJU"
      },
      "execution_count": null,
      "outputs": []
    },
    {
      "cell_type": "code",
      "source": [
        "print(f\"Device : {device}\")"
      ],
      "metadata": {
        "colab": {
          "base_uri": "https://localhost:8080/"
        },
        "id": "11sScfc92DSM",
        "outputId": "de78f780-4d39-44a7-e2e5-ed432af72188"
      },
      "execution_count": null,
      "outputs": [
        {
          "output_type": "stream",
          "name": "stdout",
          "text": [
            "Device : cuda\n"
          ]
        }
      ]
    },
    {
      "cell_type": "code",
      "source": [
        "torch.manual_seed(1234)\n",
        "w = torch.rand(2,3)\n",
        "w_new = w.to(device)\n",
        "#torch.manual_seed(1234)\n",
        "r = torch.rand(2,3)\n",
        "r_new = r.to(device)\n",
        "w_new,r_new"
      ],
      "metadata": {
        "colab": {
          "base_uri": "https://localhost:8080/"
        },
        "id": "0hSe0JzQ1D8x",
        "outputId": "c709f08f-d633-4ea7-8aba-8f345eab2338"
      },
      "execution_count": null,
      "outputs": [
        {
          "output_type": "execute_result",
          "data": {
            "text/plain": [
              "(tensor([[0.0290, 0.4019, 0.2598],\n",
              "         [0.3666, 0.0583, 0.7006]], device='cuda:0'),\n",
              " tensor([[0.0518, 0.4681, 0.6738],\n",
              "         [0.3315, 0.7837, 0.5631]], device='cuda:0'))"
            ]
          },
          "metadata": {},
          "execution_count": 73
        }
      ]
    },
    {
      "cell_type": "code",
      "source": [
        "##7\n",
        "q_1 = torch.matmul(w_new.T,r_new) #3x3\n",
        "q_2 = torch.matmul(w_new,r_new.T) #2x2\n",
        "q_1,q_2\n",
        "print(f\"q_1 Shape : {q_1}\\n{q_1.shape}\")\n",
        "print(f\"q_2 Shape : {q_2}\\n{q_2.shape}\")"
      ],
      "metadata": {
        "colab": {
          "base_uri": "https://localhost:8080/"
        },
        "id": "9oYHm38-2P2H",
        "outputId": "cc1690e4-5944-415d-b8b6-c8fbea5d36aa"
      },
      "execution_count": null,
      "outputs": [
        {
          "output_type": "stream",
          "name": "stdout",
          "text": [
            "q_1 Shape : tensor([[0.1230, 0.3009, 0.2260],\n",
            "        [0.0401, 0.2338, 0.3036],\n",
            "        [0.2457, 0.6707, 0.5696]], device='cuda:0')\n",
            "torch.Size([3, 3])\n",
            "q_2 Shape : tensor([[0.3647, 0.4709],\n",
            "        [0.5184, 0.5617]], device='cuda:0')\n",
            "torch.Size([2, 2])\n"
          ]
        }
      ]
    },
    {
      "cell_type": "code",
      "source": [
        "#8\n",
        "q_2.max() , q_2.min()"
      ],
      "metadata": {
        "colab": {
          "base_uri": "https://localhost:8080/"
        },
        "id": "BxWzgnIu3gi4",
        "outputId": "896493f5-d930-4891-a7ef-a1f2d94b7962"
      },
      "execution_count": null,
      "outputs": [
        {
          "output_type": "execute_result",
          "data": {
            "text/plain": [
              "(tensor(0.5617, device='cuda:0'), tensor(0.3647, device='cuda:0'))"
            ]
          },
          "metadata": {},
          "execution_count": 88
        }
      ]
    },
    {
      "cell_type": "code",
      "source": [
        "#9\n",
        "q_2.argmax(),q_2.argmin()"
      ],
      "metadata": {
        "colab": {
          "base_uri": "https://localhost:8080/"
        },
        "id": "B-YsA5zz3uXS",
        "outputId": "42df8949-61d9-44ea-9ca7-2bfab5938017"
      },
      "execution_count": null,
      "outputs": [
        {
          "output_type": "execute_result",
          "data": {
            "text/plain": [
              "(tensor(3, device='cuda:0'), tensor(0, device='cuda:0'))"
            ]
          },
          "metadata": {},
          "execution_count": 89
        }
      ]
    },
    {
      "cell_type": "code",
      "source": [
        "#10\n",
        "torch.manual_seed(7)\n",
        "q = torch.rand(1,1,1,10)\n",
        "y = torch.squeeze(q) #Squeeze removes single dimensions\n",
        "q , q.shape ,y, y.shape"
      ],
      "metadata": {
        "colab": {
          "base_uri": "https://localhost:8080/"
        },
        "id": "V_rUD0bX4KjI",
        "outputId": "39e6d7e3-df8f-449d-98c1-c3e93ea50190"
      },
      "execution_count": null,
      "outputs": [
        {
          "output_type": "execute_result",
          "data": {
            "text/plain": [
              "(tensor([[[[0.5349, 0.1988, 0.6592, 0.6569, 0.2328, 0.4251, 0.2071, 0.6297,\n",
              "            0.3653, 0.8513]]]]),\n",
              " torch.Size([1, 1, 1, 10]),\n",
              " tensor([0.5349, 0.1988, 0.6592, 0.6569, 0.2328, 0.4251, 0.2071, 0.6297, 0.3653,\n",
              "         0.8513]),\n",
              " torch.Size([10]))"
            ]
          },
          "metadata": {},
          "execution_count": 97
        }
      ]
    },
    {
      "cell_type": "markdown",
      "source": [
        "**The End**"
      ],
      "metadata": {
        "id": "qj-RMrVX554B"
      }
    }
  ]
}