{
  "nbformat": 4,
  "nbformat_minor": 0,
  "metadata": {
    "colab": {
      "provenance": [],
      "authorship_tag": "ABX9TyMECZnQcAOoJWphv01R4FwJ",
      "include_colab_link": true
    },
    "kernelspec": {
      "name": "python3",
      "display_name": "Python 3"
    },
    "language_info": {
      "name": "python"
    }
  },
  "cells": [
    {
      "cell_type": "markdown",
      "metadata": {
        "id": "view-in-github",
        "colab_type": "text"
      },
      "source": [
        "<a href=\"https://colab.research.google.com/github/Nirwa22/PyTorch_Youtube/blob/main/Object_Oriented_Programming.ipynb\" target=\"_parent\"><img src=\"https://colab.research.google.com/assets/colab-badge.svg\" alt=\"Open In Colab\"/></a>"
      ]
    },
    {
      "cell_type": "markdown",
      "source": [
        "**Object Oriented Programming**\n",
        "\n",
        "* Everything in python is an object/instance of some type of a class(Built-in classes)\n",
        "* So if you create your own classes then you have your own specific type"
      ],
      "metadata": {
        "id": "dBOuPxhPzosw"
      }
    },
    {
      "cell_type": "code",
      "source": [
        "#Creating a Class\n",
        "#i.e string is a class and upper() is one of the operations that it can perform\n",
        "class Dog:\n",
        "  def bark(self):\n",
        "    print('bark')\n",
        "d=Dog()#Creating an instance of the class Dog\n",
        "print(type(d))\n",
        "#\"__main__\" tells the module in which the class is defined\"\n",
        "d.bark()"
      ],
      "metadata": {
        "colab": {
          "base_uri": "https://localhost:8080/"
        },
        "id": "XtNBb8Ttz8Qd",
        "outputId": "3fdf691a-70da-4c60-ca4b-cca3b2df8e5f"
      },
      "execution_count": null,
      "outputs": [
        {
          "output_type": "stream",
          "name": "stdout",
          "text": [
            "<class '__main__.Dog'>\n",
            "bark\n"
          ]
        }
      ]
    },
    {
      "cell_type": "code",
      "source": [
        "x=str()\n",
        "print(type(x))"
      ],
      "metadata": {
        "colab": {
          "base_uri": "https://localhost:8080/"
        },
        "id": "Fnf9YvIy28o3",
        "outputId": "3a0c7f95-b419-4088-8ae4-860e1b0c86b3"
      },
      "execution_count": null,
      "outputs": [
        {
          "output_type": "stream",
          "name": "stdout",
          "text": [
            "<class 'str'>\n"
          ]
        }
      ]
    },
    {
      "cell_type": "code",
      "source": [
        "#Lets talk about def__init__()\n",
        "class Dog:\n",
        "  #Special method/operation\n",
        "  def __init__(self):\n",
        "    pass\n",
        "  def add_one(self,x):\n",
        "    return x+1\n",
        "  def bark(self):\n",
        "    print('bark')\n",
        "d=Dog()#Special method/Operation will be called whenever a new instance of the class Dog will be created"
      ],
      "metadata": {
        "id": "z1QpNg_w34BI"
      },
      "execution_count": null,
      "outputs": []
    },
    {
      "cell_type": "code",
      "source": [
        "class Dog:\n",
        "  #Special method/operation\n",
        "  def __init__(self,name):\n",
        "    self.name=name#an Attribute to store a name for each object\n",
        "    print(name)\n",
        "  def add_one(self,x):\n",
        "    return x+1\n",
        "  def bark(self):\n",
        "    print('bark')\n",
        "d=Dog('Tim')# Special method will pass the argument to it"
      ],
      "metadata": {
        "colab": {
          "base_uri": "https://localhost:8080/"
        },
        "id": "54GRxuvQ4IXN",
        "outputId": "9e049290-5cef-48e7-c218-8b8b49256d01"
      },
      "execution_count": null,
      "outputs": [
        {
          "output_type": "stream",
          "name": "stdout",
          "text": [
            "Tim\n"
          ]
        }
      ]
    },
    {
      "cell_type": "code",
      "source": [
        "d2=Dog('bill')\n",
        "print(d2.name)"
      ],
      "metadata": {
        "colab": {
          "base_uri": "https://localhost:8080/"
        },
        "id": "zN6WMknz6_ra",
        "outputId": "5f3c7294-f749-493a-e3cf-356496b75099"
      },
      "execution_count": null,
      "outputs": [
        {
          "output_type": "stream",
          "name": "stdout",
          "text": [
            "bill\n",
            "bill\n"
          ]
        }
      ]
    },
    {
      "cell_type": "markdown",
      "source": [
        "The self parameter is a reference to the current instance of the class, and is used to access variables that belongs to the class"
      ],
      "metadata": {
        "id": "gmWJQfVQ76Zj"
      }
    },
    {
      "cell_type": "code",
      "source": [
        "class Dog:\n",
        "  def __init__(self,name):\n",
        "    self.name=name\n",
        "  def get_name(self):\n",
        "    return self.name\n",
        "  def add_one(self,x):\n",
        "    return x+1\n",
        "  def bark(self):\n",
        "    print('bark')\n",
        "d=Dog('Tim')\n",
        "print(d.get_name())"
      ],
      "metadata": {
        "colab": {
          "base_uri": "https://localhost:8080/"
        },
        "id": "9VkCrYki7VjI",
        "outputId": "90331105-0de5-4162-8d56-5f8fccc28021"
      },
      "execution_count": null,
      "outputs": [
        {
          "output_type": "stream",
          "name": "stdout",
          "text": [
            "Tim\n"
          ]
        }
      ]
    },
    {
      "cell_type": "code",
      "source": [
        "class Dog:\n",
        "  def __init__(self,name,age):\n",
        "    self.name=name\n",
        "    self.age=age\n",
        "  def get_name(self):\n",
        "    return self.name\n",
        "  def get_age(self):\n",
        "    return self.age\n",
        "  def set_age(self,age):#Changes/Modifies the age(or different attributes) of the instance\n",
        "    self.age=age\n",
        "d=Dog('Tim',2)\n",
        "print(d.get_name())\n",
        "print(d.get_age())\n",
        "d.set_age(7)\n",
        "print(d.get_age())"
      ],
      "metadata": {
        "colab": {
          "base_uri": "https://localhost:8080/"
        },
        "id": "wxBuhVMK8Rsn",
        "outputId": "14e70dfa-1870-485e-fe72-e3292829bf48"
      },
      "execution_count": null,
      "outputs": [
        {
          "output_type": "stream",
          "name": "stdout",
          "text": [
            "Tim\n",
            "2\n",
            "7\n"
          ]
        }
      ]
    },
    {
      "cell_type": "markdown",
      "source": [
        "* So actually it allows us to not only access data that is stored in a specific object but also allows to perform changes and modification to that data\n",
        "* So what is the benefit of all this_**Allows us to create infinite instances of a class**"
      ],
      "metadata": {
        "id": "xpVNYsLR-Lkq"
      }
    },
    {
      "cell_type": "code",
      "source": [
        "#Advantages of multiple classes\n",
        "class Student:\n",
        "  def __init__(self,name,age,grade):\n",
        "    self.name=name\n",
        "    self.age=age\n",
        "    self.grade=grade#0-100\n",
        "  def get_grade(self):\n",
        "    return self.grade\n",
        "class Course:\n",
        "  def __init__(self,name,max_students):\n",
        "    self.name=name\n",
        "    self.max_students=max_students\n",
        "#How can students be stored in course(class) object\n",
        "    self.students = []#create a list of students\n",
        "  def add_student(self,student):#this student here is the instance of the Student object\n",
        "    if len(self.students)<self.max_students:\n",
        "      self.students.append(student)\n",
        "      return True\n",
        "    return False\n",
        "  def get_average_grade(self):\n",
        "    k=0\n",
        "    for student in self.students:\n",
        "      k = k + student.get_grade()\n",
        "    return k/len(self.students)\n",
        "w=Student('kevin',13,95)\n",
        "q=Student('ken',14,75)\n",
        "q2=Student('lucy',13,65)\n",
        "#Now how to add these 3 students to the course\n",
        "C = Course('Science',2)\n",
        "C.add_student(w)\n",
        "C.add_student(q)\n",
        "C.add_student(q2)# not added as the maximun students allowed are 2\n",
        "print(C.students[0].name)\n",
        "print(C.get_average_grade())"
      ],
      "metadata": {
        "id": "uTAiAP0D9Lt5",
        "colab": {
          "base_uri": "https://localhost:8080/"
        },
        "outputId": "2fa58330-0021-441c-87b9-d53e71402586"
      },
      "execution_count": null,
      "outputs": [
        {
          "output_type": "stream",
          "name": "stdout",
          "text": [
            "kevin\n",
            "85.0\n"
          ]
        }
      ]
    },
    {
      "cell_type": "markdown",
      "source": [
        "Inheritence:\n",
        "* Happens when two classes are very much similar to each other\n",
        "* One General Class and then specific classes\n"
      ],
      "metadata": {
        "id": "qzHla7IVDd1o"
      }
    },
    {
      "cell_type": "code",
      "source": [
        "#Example\n",
        "#Suppose we have two classes which are very much similar to each other\n",
        "class Dog():\n",
        "  def __init__(self,name,age):\n",
        "    self.name= name\n",
        "    self.age=age\n",
        "  def speak(self):#A\n",
        "    print('Bark')\n",
        "class Cat():\n",
        "  def __init__(self,name,age):\n",
        "    self.name=name\n",
        "    self.age = age\n",
        "  def speak(self):#B\n",
        "    print('meow')\n",
        "#Notice that the only thing that is different in the both classes are A and B\n",
        "#So create a general class"
      ],
      "metadata": {
        "id": "AsVO2yGVEdW3"
      },
      "execution_count": null,
      "outputs": []
    },
    {
      "cell_type": "code",
      "source": [
        "class Pet():\n",
        "  def __init__(self,name,age):\n",
        "    self.name=name\n",
        "    self.age=age\n",
        "  def show(self):\n",
        "    print(f\"I am {self.name} and I am {self.age} years old\")\n",
        "class Cat(Pet):#Shows inheritance of the class 'Pet'\n",
        "  def speak(self):\n",
        "    print('meow')\n",
        "class Dog(Pet):\n",
        "  def speak(self):\n",
        "    print('Bark')"
      ],
      "metadata": {
        "id": "aIw4V0D3E73A"
      },
      "execution_count": null,
      "outputs": []
    },
    {
      "cell_type": "code",
      "source": [
        "P=Pet('zoe',12)\n",
        "P.show()\n",
        "C=Cat('kate',6)\n",
        "C.show()#Inherits properties from the Pet class so will give an output even if the show method is not present in Cat class,same goes for '__init__' method."
      ],
      "metadata": {
        "colab": {
          "base_uri": "https://localhost:8080/"
        },
        "id": "h6FJOb2AGKrp",
        "outputId": "f5cfbeed-fb73-4449-8a08-74ffada0c09a"
      },
      "execution_count": null,
      "outputs": [
        {
          "output_type": "stream",
          "name": "stdout",
          "text": [
            "I am zoe and I am 12 years old\n",
            "I am kate and I am 6 years old\n"
          ]
        }
      ]
    },
    {
      "cell_type": "code",
      "source": [
        "D=Dog('jill',8)\n",
        "D.show()"
      ],
      "metadata": {
        "colab": {
          "base_uri": "https://localhost:8080/"
        },
        "id": "aR-jWFPbHhKJ",
        "outputId": "a2ed629a-5150-4eb9-ac4a-5f5776978015"
      },
      "execution_count": null,
      "outputs": [
        {
          "output_type": "stream",
          "name": "stdout",
          "text": [
            "I am jill and I am 8 years old\n"
          ]
        }
      ]
    },
    {
      "cell_type": "code",
      "source": [
        "D.speak()\n",
        "C.speak()"
      ],
      "metadata": {
        "colab": {
          "base_uri": "https://localhost:8080/"
        },
        "id": "8W3j-cCYHm5s",
        "outputId": "448ab8bc-114a-4fde-a054-bd24dbe0294f"
      },
      "execution_count": null,
      "outputs": [
        {
          "output_type": "stream",
          "name": "stdout",
          "text": [
            "Bark\n",
            "meow\n"
          ]
        }
      ]
    },
    {
      "cell_type": "code",
      "source": [
        "#What if you want to add an attribute to the cat(Class)(Color)\n",
        "class Pet:\n",
        "  def __init__(self,name,age):\n",
        "    self.name = name #C\n",
        "    self.age = age\n",
        "  def show(self):\n",
        "    print(f'I am {self.name} and I am {self.age} years old')\n",
        "  def speak(self):\n",
        "    print(\"I don't know what to say\")\n",
        "class Cat(Pet):\n",
        "  def __init__(self,name,age,color):\n",
        "    super().__init__(name,age) #Rather than writing C that how you can explicitly call C\n",
        "    #super() class is actually the pet class\n",
        "    self.color=color\n",
        "  def show(self):\n",
        "    print(f'I am {self.name} and I am {self.age} years old and I am {self.color}')\n",
        "  def speak(self):\n",
        "    print('meow')\n",
        "class Dog(Pet):\n",
        "  def speak(self):\n",
        "    print('Bark')\n"
      ],
      "metadata": {
        "id": "KzljrtszIFGP"
      },
      "execution_count": null,
      "outputs": []
    },
    {
      "cell_type": "code",
      "source": [
        "Cat('ken',8,'pink').show()"
      ],
      "metadata": {
        "id": "4cwgvoT4L1zY",
        "colab": {
          "base_uri": "https://localhost:8080/"
        },
        "outputId": "873a1bbe-d240-4aec-f7a8-bb5b9e6c3b0f"
      },
      "execution_count": null,
      "outputs": [
        {
          "output_type": "stream",
          "name": "stdout",
          "text": [
            "I am ken and I am 8 years old and I am pink\n"
          ]
        }
      ]
    },
    {
      "cell_type": "code",
      "source": [
        "#Class attributes\n",
        "class Person:\n",
        "  no_of_people=0 #Class Attribute(does not have 'self') or not specific to an instance i.e. self.name is going to be different for every instance.\n",
        "  def __init__(self,name):\n",
        "    self.name=name\n",
        "p1=Person('jill')\n",
        "p2=Person('tim')\n",
        "print(p1.no_of_people)\n",
        "Person.no_of_people=8#Accessing class attribute(i.e specific to the class) by simply referencing the name of the class\n",
        "print(p1.no_of_people)"
      ],
      "metadata": {
        "colab": {
          "base_uri": "https://localhost:8080/"
        },
        "id": "kwpWLsmhxn2T",
        "outputId": "17f6e13a-626f-486a-ec1e-0bca4e9c6b2e"
      },
      "execution_count": null,
      "outputs": [
        {
          "output_type": "stream",
          "name": "stdout",
          "text": [
            "0\n",
            "8\n"
          ]
        }
      ]
    },
    {
      "cell_type": "code",
      "source": [
        "class Person:\n",
        "  no_of_people=0 #Class Attribute(does not have 'self') or not specific to an instance i.e. self.name is going to be different for every instance.\n",
        "  def __init__(self,name):\n",
        "    self.name=name\n",
        "    Person.no_of_people +=1\n",
        "p1=Person('jill')\n",
        "p2=Person('tim')\n",
        "print(Person.no_of_people)"
      ],
      "metadata": {
        "colab": {
          "base_uri": "https://localhost:8080/"
        },
        "id": "jZlai4aA0PjN",
        "outputId": "6a09d3d0-c9f1-4ffe-cbd0-a8fbe6f8e781"
      },
      "execution_count": null,
      "outputs": [
        {
          "output_type": "stream",
          "name": "stdout",
          "text": [
            "2\n"
          ]
        }
      ]
    },
    {
      "cell_type": "code",
      "source": [
        "#Class methods(Act on the class/have no access to the instance)\n",
        "class Person:\n",
        "  number_of_people=0#Class Attribute\n",
        "  def __init__(self,name):\n",
        "    self.name=name\n",
        "    Person.add_person()\n",
        "  @classmethod#indicates that this is a class method\n",
        "  def no_of_people(cls):#not dependent of an instance/object i.e not referencing 'self' rather referencing 'cls'\n",
        "    return cls.number_of_people\n",
        "  @classmethod\n",
        "  def add_person(cls):#These do not access any instance,rather access class Attributes\n",
        "    cls.number_of_people += 1\n",
        "\n",
        "print(Person.no_of_people())\n",
        "p1=Person('jill')\n",
        "p2=Person('tim')\n",
        "print(Person.no_of_people())"
      ],
      "metadata": {
        "colab": {
          "base_uri": "https://localhost:8080/"
        },
        "id": "zafWfExs0ihQ",
        "outputId": "9d6a5e99-38ed-4267-f5c7-bf802a37e4e3"
      },
      "execution_count": null,
      "outputs": [
        {
          "output_type": "stream",
          "name": "stdout",
          "text": [
            "0\n",
            "2\n"
          ]
        }
      ]
    },
    {
      "cell_type": "code",
      "source": [
        "#Static method\n",
        "#Static means not change/remain constant\n",
        "#Static methods donot have access to the instance just like class method\n",
        "import math# helps you access all maths function\n",
        "class Math:\n",
        "  @staticmethod #Don't change naything/they can't\n",
        "  def add5(x): #No need to add self/cls\n",
        "    return x+5\n",
        "print(Math.add5(5))#no need to create class instance"
      ],
      "metadata": {
        "id": "mbwRhUPq3FNp",
        "colab": {
          "base_uri": "https://localhost:8080/"
        },
        "outputId": "35100147-8a31-44b4-d11d-e22f9622c05a"
      },
      "execution_count": null,
      "outputs": [
        {
          "output_type": "stream",
          "name": "stdout",
          "text": [
            "10\n"
          ]
        }
      ]
    }
  ]
}